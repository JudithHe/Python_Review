{
 "cells": [
  {
   "cell_type": "markdown",
   "metadata": {
    "id": "R5jeMh35z1sO"
   },
   "source": [
    "# MSBD5001 - Foundations of Data Analytics\n",
    "# Tutorial 3\n",
    "# NumPy"
   ]
  },
  {
   "cell_type": "markdown",
   "metadata": {},
   "source": [
    "\n",
    "NumPy is a fundamental package for scientific computing in Python.\n",
    "\n",
    "NumPy is a short form for \"Numerical Python\".\n",
    "\n",
    "<url>https://numpy.org/</url>"
   ]
  },
  {
   "cell_type": "markdown",
   "metadata": {
    "id": "vN9zRxH8z1sW"
   },
   "source": [
    "To install NumPy in Jupyter Notebook using pip, run the following cell:"
   ]
  },
  {
   "cell_type": "code",
   "execution_count": null,
   "metadata": {
    "id": "5m78qqasz1sY",
    "outputId": "2e8b2e29-5c5a-4cc8-9c00-809afcb9919a"
   },
   "outputs": [],
   "source": [
    "!pip install numpy "
   ]
  },
  {
   "cell_type": "markdown",
   "metadata": {
    "id": "ZgEDWpXlz1sc"
   },
   "source": [
    "Import the NumPy package"
   ]
  },
  {
   "cell_type": "code",
   "execution_count": 2,
   "metadata": {
    "id": "XtCuqQDhz1sd"
   },
   "outputs": [],
   "source": [
    "import numpy as np"
   ]
  },
  {
   "cell_type": "markdown",
   "metadata": {
    "id": "mTXQwjJuz1se"
   },
   "source": [
    "## Arrays\n",
    "- [Standard Python Library array](https://docs.python.org/3/library/array.html) only handles one-dimensional arrays and offers less functionality.\n",
    "- NumPy’s array class is called ndarray (the N-dimensional array). \n",
    "- It provides a powerful N-dimensional array object. \n",
    "- It is a table of elements (usually numbers), all of the same type, indexed by a tuple of non-negative integers.\n",
    "- In NumPy, dimensions are called axes.\n",
    "- The shape of an ndarray is a tuple of integers, which each integer is the size of the array along each dimensions."
   ]
  },
  {
   "cell_type": "markdown",
   "metadata": {},
   "source": [
    "### Create and Initialize a NumPy Array (ndarray)\n",
    "\n",
    "- To create an array, we can use the numpy.array() method.\n",
    "- We can initialize an ndarray from a Python list of elements. "
   ]
  },
  {
   "cell_type": "code",
   "execution_count": 3,
   "metadata": {},
   "outputs": [
    {
     "name": "stdout",
     "output_type": "stream",
     "text": [
      "[5 3 6]\n"
     ]
    }
   ],
   "source": [
    "list1 = [5, 3, 6]\n",
    "array1 = np.array(list1)\n",
    "print (array1)"
   ]
  },
  {
   "cell_type": "markdown",
   "metadata": {},
   "source": [
    "- To obtain the shape of an array, we can use the [numpy.ndarray.shape](https://numpy.org/doc/stable/reference/generated/numpy.ndarray.shape.html) attribute.\n",
    "\n",
    "- For the above example, since array1 only has 1 dimension, the shape of it is (3, ), which indicates that dimension 1 has 3 elements."
   ]
  },
  {
   "cell_type": "code",
   "execution_count": 4,
   "metadata": {},
   "outputs": [
    {
     "name": "stdout",
     "output_type": "stream",
     "text": [
      "(3,)\n"
     ]
    }
   ],
   "source": [
    "print(array1.shape)"
   ]
  },
  {
   "cell_type": "markdown",
   "metadata": {},
   "source": [
    "- To access each element in the array, we use square brackets and the corresponding indices for each dimension."
   ]
  },
  {
   "cell_type": "code",
   "execution_count": 5,
   "metadata": {},
   "outputs": [
    {
     "name": "stdout",
     "output_type": "stream",
     "text": [
      "5,3,6\n"
     ]
    }
   ],
   "source": [
    "print(array1[0], array1[1], array1[2], sep=\",\")"
   ]
  },
  {
   "cell_type": "markdown",
   "metadata": {},
   "source": [
    "#### One-dimensional Array"
   ]
  },
  {
   "cell_type": "code",
   "execution_count": 6,
   "metadata": {
    "id": "EjL6jaXlz1sf",
    "outputId": "f564cf45-fd5e-45c5-9894-3d2398cb97d9"
   },
   "outputs": [
    {
     "name": "stdout",
     "output_type": "stream",
     "text": [
      "[1 2 3 4]\n",
      "<class 'numpy.ndarray'>\n"
     ]
    }
   ],
   "source": [
    "a = np.array([1, 2, 3, 4]) # Create an array with 1 axes and a length of 3\n",
    "print (a)\n",
    "print (type(a)) # Return the type of the object, a"
   ]
  },
  {
   "cell_type": "code",
   "execution_count": 7,
   "metadata": {
    "id": "x1jfhQIHz1sh",
    "outputId": "a2b15624-9820-491d-be7a-f2576813583b"
   },
   "outputs": [
    {
     "name": "stdout",
     "output_type": "stream",
     "text": [
      "1\n",
      "(4,)\n",
      "4\n",
      "int32\n"
     ]
    }
   ],
   "source": [
    "print (a.ndim) # Return the number of axes (dimensions) of the array\n",
    "print (a.shape) # Return the dimensions of the array\n",
    "print (a.size) # Return the number of elements\n",
    "print (a.dtype.name) # Return the type of the elements in the array"
   ]
  },
  {
   "cell_type": "code",
   "execution_count": 8,
   "metadata": {},
   "outputs": [
    {
     "name": "stdout",
     "output_type": "stream",
     "text": [
      "1 2 3 4\n",
      "4\n"
     ]
    }
   ],
   "source": [
    "print(a[0], a[1], a[2], a[3])\n",
    "print(a[-1])"
   ]
  },
  {
   "cell_type": "markdown",
   "metadata": {},
   "source": [
    "#### Two-dimensional Array"
   ]
  },
  {
   "cell_type": "code",
   "execution_count": 9,
   "metadata": {
    "id": "IPfYAtFcz1si",
    "outputId": "70aab66d-2671-4ff7-d768-290556eb87ee"
   },
   "outputs": [
    {
     "name": "stdout",
     "output_type": "stream",
     "text": [
      "[[1. 0. 0.]\n",
      " [0. 1. 2.]]\n",
      "<class 'numpy.ndarray'>\n"
     ]
    }
   ],
   "source": [
    "b = np.array([[ 1., 0., 0.], \n",
    "              [ 0., 1., 2.]]) # Create an array with 2 axes\n",
    "                              # 1st axis has a length of 2, \n",
    "                              # 2nd axis has a length of 3 \n",
    "print (b)\n",
    "print (type(b))"
   ]
  },
  {
   "cell_type": "code",
   "execution_count": 10,
   "metadata": {
    "id": "dtSEvzywz1sk",
    "outputId": "7dacf8a2-2e91-476d-a62a-866854cb850b"
   },
   "outputs": [
    {
     "name": "stdout",
     "output_type": "stream",
     "text": [
      "2\n",
      "(2, 3)\n",
      "6\n",
      "float64\n"
     ]
    }
   ],
   "source": [
    "print (b.ndim)\n",
    "print (b.shape)\n",
    "print (b.size)\n",
    "print (b.dtype.name)"
   ]
  },
  {
   "cell_type": "code",
   "execution_count": 11,
   "metadata": {},
   "outputs": [
    {
     "name": "stdout",
     "output_type": "stream",
     "text": [
      "[1. 0. 0.]\t[0. 1. 2.]\n",
      "1.0, 0.0, 0.0, 0.0, 1.0, 2.0\n"
     ]
    }
   ],
   "source": [
    "print (b[0], b[1], sep=\"\\t\")\n",
    "print (b[0, 0], b[0, 1], b[0, 2], b[1, 0], b[1, 1], b[1, 2], sep=\", \")"
   ]
  },
  {
   "cell_type": "markdown",
   "metadata": {},
   "source": [
    "#### Three-dimensional Array"
   ]
  },
  {
   "cell_type": "code",
   "execution_count": 12,
   "metadata": {},
   "outputs": [
    {
     "name": "stdout",
     "output_type": "stream",
     "text": [
      "[[[ 1  2  3]\n",
      "  [ 4  5  6]]\n",
      "\n",
      " [[ 7  8  9]\n",
      "  [10 11 12]]]\n"
     ]
    }
   ],
   "source": [
    "c = np.array([[[1, 2, 3], [4, 5, 6]], [[7, 8, 9], [10, 11, 12]]])\n",
    "print (c)"
   ]
  },
  {
   "cell_type": "code",
   "execution_count": 13,
   "metadata": {},
   "outputs": [
    {
     "name": "stdout",
     "output_type": "stream",
     "text": [
      "3\n",
      "(2, 2, 3)\n",
      "12\n"
     ]
    }
   ],
   "source": [
    "print (c.ndim)\n",
    "print (c.shape)\n",
    "print (c.size)"
   ]
  },
  {
   "cell_type": "code",
   "execution_count": 14,
   "metadata": {},
   "outputs": [
    {
     "name": "stdout",
     "output_type": "stream",
     "text": [
      "1 11\n"
     ]
    }
   ],
   "source": [
    "print (c[0, 0, 0], c[1, 1, 1])"
   ]
  },
  {
   "cell_type": "markdown",
   "metadata": {},
   "source": [
    "### More about Creating Arrays"
   ]
  },
  {
   "cell_type": "markdown",
   "metadata": {
    "id": "hcySqAJmz1sm"
   },
   "source": [
    "NumPy offers several functions to create arrays with initial placeholder content.\n",
    "- numpy.zeros(shape), which creates an array of zeros with specified shape \n",
    "- numpy.ones(shape), which creates an array of ones with specified shape\n",
    "- numpy.full(shape, constant), which creates a constant array with specified shape\n",
    "- numpy.eye(i), which creates a ixi identify matrix\n",
    "- numpy.random.random(shape), which creates an array of random values with specified shape\n",
    "- numpy.arange(), which creates an array with a sequence of evenly spaced numbers within a given interval \n",
    "- numpy.linspace()"
   ]
  },
  {
   "cell_type": "code",
   "execution_count": 15,
   "metadata": {
    "id": "cN9u7_Xdz1sm",
    "outputId": "9fa3b671-aea2-469b-d40f-8b04af11dace"
   },
   "outputs": [
    {
     "data": {
      "text/plain": [
       "array([[0., 0., 0., 0.],\n",
       "       [0., 0., 0., 0.],\n",
       "       [0., 0., 0., 0.]])"
      ]
     },
     "execution_count": 15,
     "metadata": {},
     "output_type": "execute_result"
    }
   ],
   "source": [
    "np.zeros( (3, 4) ) # Create an 3x4 array full of zeros \n",
    "                   # (i.e. a two dimensional array with 3 rows and 4 elements each row)"
   ]
  },
  {
   "cell_type": "code",
   "execution_count": 16,
   "metadata": {
    "id": "p40j0S2Hz1sn",
    "outputId": "e9771b7b-dfb9-49d0-bcac-145c00a65101"
   },
   "outputs": [
    {
     "data": {
      "text/plain": [
       "array([[1., 1., 1., 1.],\n",
       "       [1., 1., 1., 1.],\n",
       "       [1., 1., 1., 1.]])"
      ]
     },
     "execution_count": 16,
     "metadata": {},
     "output_type": "execute_result"
    }
   ],
   "source": [
    "np.ones( (3, 4) ) # Create an array full of ones"
   ]
  },
  {
   "cell_type": "code",
   "execution_count": 17,
   "metadata": {
    "id": "MnL6ZD-jz1so",
    "outputId": "075b7c26-85e1-433b-96d5-79159890943a"
   },
   "outputs": [
    {
     "data": {
      "text/plain": [
       "array([[5, 5, 5, 5],\n",
       "       [5, 5, 5, 5],\n",
       "       [5, 5, 5, 5]])"
      ]
     },
     "execution_count": 17,
     "metadata": {},
     "output_type": "execute_result"
    }
   ],
   "source": [
    "np.full( (3, 4), 5) # Create a constant array"
   ]
  },
  {
   "cell_type": "code",
   "execution_count": 18,
   "metadata": {},
   "outputs": [
    {
     "data": {
      "text/plain": [
       "array([[1., 0., 0.],\n",
       "       [0., 1., 0.],\n",
       "       [0., 0., 1.]])"
      ]
     },
     "execution_count": 18,
     "metadata": {},
     "output_type": "execute_result"
    }
   ],
   "source": [
    "np.eye(3) # Return a 3x3 identify matrix"
   ]
  },
  {
   "cell_type": "code",
   "execution_count": 19,
   "metadata": {},
   "outputs": [
    {
     "data": {
      "text/plain": [
       "array([[0.95807152, 0.02277773, 0.10667925, 0.36269869],\n",
       "       [0.51258402, 0.22810189, 0.03542813, 0.14546954],\n",
       "       [0.45486006, 0.79664748, 0.79413054, 0.78954938]])"
      ]
     },
     "execution_count": 19,
     "metadata": {},
     "output_type": "execute_result"
    }
   ],
   "source": [
    "np.random.random((3, 4)) # Return a 3x4 array filled with random values"
   ]
  },
  {
   "cell_type": "markdown",
   "metadata": {},
   "source": [
    "- arange(end): the sequence of values are from 0 to end (exclusive) \n",
    "- arange(start, end): the sequence of values are from start to end (exclusive)\n",
    "- arnage(start, end, step): the values are within start to end (exclusive) and with the spacing between two values given by step"
   ]
  },
  {
   "cell_type": "code",
   "execution_count": 20,
   "metadata": {
    "id": "YGS7GBvez1sp",
    "outputId": "f329a9a0-01d5-40b1-8af0-bb2062a40d3c"
   },
   "outputs": [
    {
     "data": {
      "text/plain": [
       "array([0, 1, 2, 3, 4, 5, 6, 7, 8, 9])"
      ]
     },
     "execution_count": 20,
     "metadata": {},
     "output_type": "execute_result"
    }
   ],
   "source": [
    "np.arange(10) # Return an array with a sequence of numbers from 0 to 10 (exclusive)"
   ]
  },
  {
   "cell_type": "code",
   "execution_count": 21,
   "metadata": {},
   "outputs": [
    {
     "data": {
      "text/plain": [
       "array([1, 2, 3, 4, 5, 6, 7, 8, 9])"
      ]
     },
     "execution_count": 21,
     "metadata": {},
     "output_type": "execute_result"
    }
   ],
   "source": [
    "np.arange(1, 10) # Return an array with a sequence of numbers from 1 to 10 (exclusive)"
   ]
  },
  {
   "cell_type": "code",
   "execution_count": 22,
   "metadata": {
    "id": "E6N1o7D9z1sq",
    "outputId": "8acd4ce9-ae84-418a-fece-b1ec45891aac"
   },
   "outputs": [
    {
     "data": {
      "text/plain": [
       "array([1, 3, 5, 7, 9])"
      ]
     },
     "execution_count": 22,
     "metadata": {},
     "output_type": "execute_result"
    }
   ],
   "source": [
    "np.arange(1, 10, 2) # Return an array with a sequence of numbers from 1 to 10 (exlusive) \n",
    "                    # and the step is 2 between two numbers in the sequence."
   ]
  },
  {
   "cell_type": "markdown",
   "metadata": {},
   "source": [
    "- linspace(start, end, num=50)"
   ]
  },
  {
   "cell_type": "code",
   "execution_count": 23,
   "metadata": {},
   "outputs": [
    {
     "name": "stdout",
     "output_type": "stream",
     "text": [
      "[0.         0.18367347 0.36734694 0.55102041 0.73469388 0.91836735\n",
      " 1.10204082 1.28571429 1.46938776 1.65306122 1.83673469 2.02040816\n",
      " 2.20408163 2.3877551  2.57142857 2.75510204 2.93877551 3.12244898\n",
      " 3.30612245 3.48979592 3.67346939 3.85714286 4.04081633 4.2244898\n",
      " 4.40816327 4.59183673 4.7755102  4.95918367 5.14285714 5.32653061\n",
      " 5.51020408 5.69387755 5.87755102 6.06122449 6.24489796 6.42857143\n",
      " 6.6122449  6.79591837 6.97959184 7.16326531 7.34693878 7.53061224\n",
      " 7.71428571 7.89795918 8.08163265 8.26530612 8.44897959 8.63265306\n",
      " 8.81632653 9.        ]\n"
     ]
    }
   ],
   "source": [
    "print (np.linspace(0, 9)) # Return an array with 50 evenly spaced numbers between start to end (exclusive)"
   ]
  },
  {
   "cell_type": "code",
   "execution_count": 24,
   "metadata": {
    "id": "DwfzDhT4z1sr",
    "outputId": "ca273a4d-5267-4d4f-8f12-d98fa70e2ab0"
   },
   "outputs": [
    {
     "name": "stdout",
     "output_type": "stream",
     "text": [
      "[0.  4.5 9. ]\n"
     ]
    }
   ],
   "source": [
    "print (np.linspace(0, 9, 3)) # Return an array with 3 evenly spaced numbers\n",
    "                             # between 0 to 9"
   ]
  },
  {
   "cell_type": "markdown",
   "metadata": {
    "id": "ltPp7U4fz1ss"
   },
   "source": [
    "### Changing the shape of the array"
   ]
  },
  {
   "cell_type": "markdown",
   "metadata": {},
   "source": [
    "#### Reshaping\n",
    "- Through reshaping, we can create a new array by adding or removing dimensions or changing the number of elements in each dimension\n",
    "- [numpy.ndarray.reshape(new_shape)](https://numpy.org/doc/stable/reference/generated/numpy.ndarray.reshape.html?highlight=reshape#numpy.ndarray.reshape)"
   ]
  },
  {
   "cell_type": "code",
   "execution_count": 25,
   "metadata": {
    "id": "2qjxAY14z1ss",
    "outputId": "5f5e13be-89ee-48b3-b5f4-b34373b254c7"
   },
   "outputs": [
    {
     "name": "stdout",
     "output_type": "stream",
     "text": [
      "a = [[0 1 2 3]\n",
      " [4 5 6 7]]\n",
      "b = [[0 1]\n",
      " [2 3]\n",
      " [4 5]\n",
      " [6 7]]\n"
     ]
    }
   ],
   "source": [
    "a = np.array([ [0, 1, 2, 3], [4, 5, 6, 7]]) # creates a 2x4 2d array\n",
    "print (\"a =\", a)\n",
    "b = a.reshape(4, 2) # change the shape to a 2x4 array\n",
    "print (\"b =\", b)"
   ]
  },
  {
   "cell_type": "markdown",
   "metadata": {},
   "source": [
    "#### Resizing\n",
    "- We can change the shape and size of an array in-place.\n",
    "- [numpy.ndarray.resize(new_shape)](https://numpy.org/doc/stable/reference/generated/numpy.ndarray.resize.html?highlight=resize#numpy.ndarray.resize)"
   ]
  },
  {
   "cell_type": "code",
   "execution_count": 26,
   "metadata": {},
   "outputs": [
    {
     "name": "stdout",
     "output_type": "stream",
     "text": [
      "a =  [[0 1 2 3]\n",
      " [4 5 6 7]]\n",
      "after resizing, a = [[0 1]\n",
      " [2 3]\n",
      " [4 5]\n",
      " [6 7]]\n"
     ]
    }
   ],
   "source": [
    "print(\"a = \", a)\n",
    "a.resize(4, 2) \n",
    "print (\"after resizing, a =\", a)"
   ]
  },
  {
   "cell_type": "markdown",
   "metadata": {},
   "source": [
    "#### Flatten an Array\n",
    "- [numpy.ndarray.ravel()] returns a flattened array"
   ]
  },
  {
   "cell_type": "code",
   "execution_count": 27,
   "metadata": {},
   "outputs": [
    {
     "name": "stdout",
     "output_type": "stream",
     "text": [
      "a =  [[0 1]\n",
      " [2 3]\n",
      " [4 5]\n",
      " [6 7]]\n",
      "c = [0 1 2 3 4 5 6 7]\n"
     ]
    }
   ],
   "source": [
    "print (\"a = \", a)\n",
    "c = a.ravel()\n",
    "print (\"c =\", c)"
   ]
  },
  {
   "cell_type": "markdown",
   "metadata": {},
   "source": [
    "### More about printing an array"
   ]
  },
  {
   "cell_type": "markdown",
   "metadata": {
    "id": "Gk4HVMNFz1st"
   },
   "source": [
    "If an array is too large to be printed, NumPy automatically skips the central part of the array and only prints the corners."
   ]
  },
  {
   "cell_type": "code",
   "execution_count": 28,
   "metadata": {
    "id": "33quXfu5z1st",
    "outputId": "2cbc438c-3d18-41fc-975c-b175f509ea6d"
   },
   "outputs": [
    {
     "name": "stdout",
     "output_type": "stream",
     "text": [
      "[   0    1    2 ... 9997 9998 9999]\n"
     ]
    }
   ],
   "source": [
    "print (np.arange(10000))"
   ]
  },
  {
   "cell_type": "code",
   "execution_count": 29,
   "metadata": {
    "id": "xVPSYV1vz1su",
    "outputId": "ee2d2658-9eed-428e-aebd-5d6754490601"
   },
   "outputs": [
    {
     "name": "stdout",
     "output_type": "stream",
     "text": [
      "[[   0    1    2 ...   17   18   19]\n",
      " [  20   21   22 ...   37   38   39]\n",
      " [  40   41   42 ...   57   58   59]\n",
      " ...\n",
      " [9940 9941 9942 ... 9957 9958 9959]\n",
      " [9960 9961 9962 ... 9977 9978 9979]\n",
      " [9980 9981 9982 ... 9997 9998 9999]]\n"
     ]
    }
   ],
   "source": [
    "print (np.arange(10000).reshape(500, 20)) # reshape() returns an array \n",
    "                                          # with a modified shape"
   ]
  },
  {
   "cell_type": "markdown",
   "metadata": {
    "id": "K2-wpGbY0gCy"
   },
   "source": [
    "### Transposing the array"
   ]
  },
  {
   "cell_type": "code",
   "execution_count": 30,
   "metadata": {
    "colab": {
     "base_uri": "https://localhost:8080/"
    },
    "executionInfo": {
     "elapsed": 273,
     "status": "ok",
     "timestamp": 1648963984484,
     "user": {
      "displayName": "Ceci Chan",
      "userId": "12536886081811333795"
     },
     "user_tz": -480
    },
    "id": "_xGNvr_90fqh",
    "outputId": "436c482c-51ee-401f-a1f6-e8825f442998"
   },
   "outputs": [
    {
     "name": "stdout",
     "output_type": "stream",
     "text": [
      "a = [[0 1 2 3]\n",
      " [4 5 6 7]]\n",
      "shape =  (2, 4)\n",
      "b1 = [[0 4]\n",
      " [1 5]\n",
      " [2 6]\n",
      " [3 7]]\n",
      "b1 = [[0 4]\n",
      " [1 5]\n",
      " [2 6]\n",
      " [3 7]]\n",
      "b1 = [[0 4]\n",
      " [1 5]\n",
      " [2 6]\n",
      " [3 7]]\n",
      "c = [[0 1]\n",
      " [2 3]\n",
      " [4 5]\n",
      " [6 7]]\n"
     ]
    }
   ],
   "source": [
    "a = np.array([ [0, 1, 2, 3], [4, 5, 6, 7]]) # 2 x 4 array\n",
    "print (\"a =\", a)\n",
    "print (\"shape = \", a.shape)\n",
    "\n",
    "b1 = a.transpose() # standard transpose of the 2D array\n",
    "print (\"b1 =\", b1)\n",
    "\n",
    "b2 = a.transpose(1, 0) # transpose of the 2D array with permutation of axes [1, 0]\n",
    "                       # i.e. from (2, 4) to (4, 2)\n",
    "print (\"b1 =\", b1)\n",
    "\n",
    "b2 = a.transpose(1, 0) # transpose of the 2D array with permutation of axes [0, 1]\n",
    "                       # i.e. from (2, 4) to (2, 4)\n",
    "print (\"b1 =\", b1)\n",
    "\n",
    "c = a.reshape(4, 2) # reshape the array c to a 2D array with 4 rows and 2 cols\n",
    "print (\"c =\", c)\n"
   ]
  },
  {
   "cell_type": "markdown",
   "metadata": {
    "id": "uucQfwcqAwVk"
   },
   "source": [
    "### Flip the array\n",
    "- reverse the elements in the array with the shape unchanged."
   ]
  },
  {
   "cell_type": "code",
   "execution_count": 31,
   "metadata": {
    "colab": {
     "base_uri": "https://localhost:8080/"
    },
    "executionInfo": {
     "elapsed": 281,
     "status": "ok",
     "timestamp": 1648965728062,
     "user": {
      "displayName": "Ceci Chan",
      "userId": "12536886081811333795"
     },
     "user_tz": -480
    },
    "id": "QWvpIOSWA5nr",
    "outputId": "2d3cba89-9431-4dff-dbd2-92e4637089f4"
   },
   "outputs": [
    {
     "name": "stdout",
     "output_type": "stream",
     "text": [
      "a = [[0 1 2 3]\n",
      " [4 5 6 7]]\n",
      "shape =  (2, 4)\n",
      "b =  [[7 6 5 4]\n",
      " [3 2 1 0]]\n",
      "shape =  (2, 4)\n"
     ]
    }
   ],
   "source": [
    "a = np.array([ [0, 1, 2, 3], [4, 5, 6, 7]]) # 2 x 4 array\n",
    "print (\"a =\", a)\n",
    "print (\"shape = \", a.shape)\n",
    "\n",
    "b = np.flip(a)\n",
    "print (\"b = \", b)\n",
    "print (\"shape = \", b.shape)"
   ]
  },
  {
   "cell_type": "markdown",
   "metadata": {
    "id": "U33E9HQN_bAd"
   },
   "source": [
    "### Reshape vs Transpose vs Flip"
   ]
  },
  {
   "cell_type": "code",
   "execution_count": 32,
   "metadata": {
    "colab": {
     "base_uri": "https://localhost:8080/"
    },
    "executionInfo": {
     "elapsed": 308,
     "status": "ok",
     "timestamp": 1648965627049,
     "user": {
      "displayName": "Ceci Chan",
      "userId": "12536886081811333795"
     },
     "user_tz": -480
    },
    "id": "Jk3DVZ5H_awQ",
    "outputId": "30d9d178-2873-49c5-87b6-3ad6bdc30e82"
   },
   "outputs": [
    {
     "name": "stdout",
     "output_type": "stream",
     "text": [
      "a = [[ 0  1  2  3]\n",
      " [ 4  5  6  7]\n",
      " [ 8  9 10 11]]\n",
      "shape =  (3, 4)\n",
      "b = [[ 0  1  2]\n",
      " [ 3  4  5]\n",
      " [ 6  7  8]\n",
      " [ 9 10 11]]\n",
      "c = [[ 0  4  8]\n",
      " [ 1  5  9]\n",
      " [ 2  6 10]\n",
      " [ 3  7 11]]\n",
      "d =  [[11 10  9  8]\n",
      " [ 7  6  5  4]\n",
      " [ 3  2  1  0]]\n"
     ]
    }
   ],
   "source": [
    "a = np.arange(12).reshape(3, 4) # numpy.ndarray.reshape() equivalent to numpy.reshape()\n",
    "print (\"a =\", a)\n",
    "print (\"shape = \", a.shape)\n",
    "\n",
    "b = a.reshape(4, 3)\n",
    "print (\"b =\", b)\n",
    "\n",
    "c = a.transpose() # numpy.ndarray.transpose() equivalent to numpy.transpose()\n",
    "print (\"c =\", c)\n",
    "\n",
    "d = np.flip(a) # numpy.flip()\n",
    "print (\"d = \", d)\n"
   ]
  },
  {
   "cell_type": "markdown",
   "metadata": {},
   "source": [
    "## Array Arithmetics"
   ]
  },
  {
   "cell_type": "markdown",
   "metadata": {
    "id": "RnKZKMUUz1su"
   },
   "source": [
    "Arithmetic operators on arrays apply elementwise. "
   ]
  },
  {
   "cell_type": "code",
   "execution_count": 33,
   "metadata": {
    "id": "pjVTfZF2z1sv",
    "outputId": "b197c69b-6fdf-4862-9b25-72c29ef53d3d"
   },
   "outputs": [
    {
     "name": "stdout",
     "output_type": "stream",
     "text": [
      "[[ 0  1  2  3]\n",
      " [ 4  5  6  7]\n",
      " [ 8  9 10 11]]\n",
      "[[  0  10  20  30]\n",
      " [ 40  50  60  70]\n",
      " [ 80  90 100 110]]\n",
      "[[ True  True  True  True]\n",
      " [ True  True  True  True]\n",
      " [ True  True False False]]\n"
     ]
    }
   ],
   "source": [
    "a = np.arange(0, 12).reshape(3, 4)\n",
    "print (a)\n",
    "print (a * 10)\n",
    "print (a < 10)"
   ]
  },
  {
   "cell_type": "markdown",
   "metadata": {
    "id": "OGfz03jGz1sw"
   },
   "source": [
    "### Matrix product\n",
    "- Matrix multiplication can be done by:\n",
    "  - numpy.ndarray.dot()\n",
    "  - numpy.matmul() (@ operator)"
   ]
  },
  {
   "cell_type": "code",
   "execution_count": 34,
   "metadata": {},
   "outputs": [
    {
     "name": "stdout",
     "output_type": "stream",
     "text": [
      "[[1 2]\n",
      " [3 4]]\n",
      "[[1 2]\n",
      " [3 4]]\n",
      "[[1 2]\n",
      " [3 4]]\n"
     ]
    }
   ],
   "source": [
    "a = np.array([[1, 0], [0, 1]])\n",
    "b = np.array([[1, 2], [3, 4]])\n",
    "\n",
    "print (a.dot(b)) # Return matrix product\n",
    "\n",
    "print (a @ b) # Return matrix product\n",
    "print (np.matmul(a, b)) # Return matrix product"
   ]
  },
  {
   "cell_type": "markdown",
   "metadata": {},
   "source": [
    "### Array Multiplication vs Matrix Multiplication"
   ]
  },
  {
   "cell_type": "code",
   "execution_count": 35,
   "metadata": {
    "id": "GOr820Imz1sw",
    "outputId": "08cfcdc2-f554-49b0-86ae-c391d4d82de2"
   },
   "outputs": [
    {
     "name": "stdout",
     "output_type": "stream",
     "text": [
      "[[1 0]\n",
      " [0 4]]\n",
      "[[1 2]\n",
      " [3 4]]\n",
      "[[1 2]\n",
      " [3 4]]\n"
     ]
    }
   ],
   "source": [
    "a = np.array([[1, 0], [0, 1]])\n",
    "b = np.array([[1, 2], [3, 4]])\n",
    "\n",
    "print (a * b) # Return elementwise product\n",
    "print (a @ b) # Return matrix product\n",
    "print (a.dot(b)) # Return matrix product"
   ]
  },
  {
   "cell_type": "markdown",
   "metadata": {},
   "source": [
    "## Other NumPy Functions\n",
    "NumPy also provides many functions for doing computations on arrays, for example,\n",
    "\n",
    "### [Mathematical functions](https://numpy.org/doc/stable/reference/routines.math.html)\n",
    "  - numpy.ndarray.sum(axis=None)\n",
    "    - Return the sum of the array elements over a given axis\n",
    "    \n",
    "### [Statistics](https://numpy.org/doc/stable/reference/routines.statistics.html)\n",
    "  - numpy.mean(a, axis=None)\n",
    "    - Return the average along a given axis\n",
    "  - numpy.average(a, axis=None, weights=None)\n",
    "    - Return the weighted average along a given axis\n",
    "  - numpy.median(a, axis=None)\n",
    "    - Compute the median along the specified axis\n",
    "  - numpy.percentile(a, q, axis=None)\n",
    "    - Compute the q-th percentile of array a along the given axis"
   ]
  },
  {
   "cell_type": "code",
   "execution_count": 36,
   "metadata": {},
   "outputs": [
    {
     "name": "stdout",
     "output_type": "stream",
     "text": [
      "[[ 0  1  2  3]\n",
      " [ 4  5  6  7]\n",
      " [ 8  9 10 11]]\n"
     ]
    }
   ],
   "source": [
    "a = np.arange(0, 12).reshape(3, 4)\n",
    "print(a)"
   ]
  },
  {
   "cell_type": "code",
   "execution_count": 37,
   "metadata": {},
   "outputs": [
    {
     "name": "stdout",
     "output_type": "stream",
     "text": [
      "66\n",
      "[12 15 18 21]\n",
      "[ 6 22 38]\n"
     ]
    }
   ],
   "source": [
    "print (a.sum()) # sum all elements\n",
    "print (a.sum(0)) # sum the elements along axis 0 (i.e. each column)\n",
    "print (a.sum(1)) # sum the elements along axis 1 (i.e. each row)"
   ]
  },
  {
   "cell_type": "code",
   "execution_count": 38,
   "metadata": {},
   "outputs": [
    {
     "name": "stdout",
     "output_type": "stream",
     "text": [
      "5.5\n",
      "[4. 5. 6. 7.]\n",
      "5.5\n",
      "5.5\n"
     ]
    }
   ],
   "source": [
    "print (np.mean(a))\n",
    "print (np.mean(a, 0))\n",
    "print (np.percentile(a, 50))\n",
    "print (np.median(a))"
   ]
  },
  {
   "cell_type": "markdown",
   "metadata": {
    "id": "1HKJ6hHSz1sw"
   },
   "source": [
    "## Indexing and Slicing"
   ]
  },
  {
   "cell_type": "markdown",
   "metadata": {},
   "source": [
    "- Similar to Python lists, NumPy arrays can be indexed and sliced.\n",
    "- If an array is multi-dimensional, then we must specify a slice for each dimension of the array."
   ]
  },
  {
   "cell_type": "markdown",
   "metadata": {},
   "source": [
    "For example, if a is a NumPy array,\n",
    "### Indexing:\n",
    "- a[i]\n",
    "  - Select the element at index i\n",
    "- a[-i]\n",
    "  - Select the element from the end\n",
    "\n",
    "### Slicing\n",
    "- a[i:j]\n",
    "  - Select the elements from index i to j-1\n",
    "- a[:]\n",
    "  - Select all elements in the corresponding dimension (axis)\n",
    "- a[0:]\n",
    "  - Select all elements in the corresponding dimension (axis)\n",
    "- a[i:]\n",
    "  - Select all elements from index i to the end (inclusive)\n",
    "- a[:j]\n",
    "  - Select all elements from index 0 to index j-1\n",
    "- a[i:j:n]\n",
    "  - Select the elements from index i to j, with a step of n\n",
    "- a[::-1]\n",
    "  - Select all elements in the reversed order"
   ]
  },
  {
   "cell_type": "markdown",
   "metadata": {},
   "source": [
    "#### Indexing and slicing on one-dimensional array"
   ]
  },
  {
   "cell_type": "code",
   "execution_count": 39,
   "metadata": {
    "id": "3nakEOctz1sx",
    "outputId": "1cb40c40-5f58-4ec9-fa2c-9773eab02358"
   },
   "outputs": [
    {
     "name": "stdout",
     "output_type": "stream",
     "text": [
      "[0 2 4 6]\n",
      "4\n",
      "[0 2 4 6]\n",
      "[2 4]\n",
      "[6 4 2 0]\n"
     ]
    }
   ],
   "source": [
    "a = np.arange(0, 8, 2) # creates a 1d array with 4 even numbers\n",
    "print (a)\n",
    "print (a[2]) # Indexing, access the 3rd element with index 2\n",
    "print (a[:]) # Slicing, access all elements\n",
    "print (a[1:3]) # Slicing, access the elements with index starting at 1 and ending at 3-1\n",
    "print (a[::-1]) # Slicing, access all elements in the reversed order"
   ]
  },
  {
   "cell_type": "markdown",
   "metadata": {},
   "source": [
    "#### Indexing and slicing on two-dimensional array"
   ]
  },
  {
   "cell_type": "code",
   "execution_count": 40,
   "metadata": {
    "id": "27hM-sU5z1sx",
    "outputId": "b0c8959b-bd70-450d-8a16-95f0f99ef51f"
   },
   "outputs": [
    {
     "name": "stdout",
     "output_type": "stream",
     "text": [
      "[[ 0  2  4  6]\n",
      " [ 8 10 12 14]\n",
      " [16 18 20 22]]\n",
      "12\n",
      "[ 2 10]\n",
      "[ 2 10 18]\n",
      "[[22 20 18 16]\n",
      " [14 12 10  8]\n",
      " [ 6  4  2  0]]\n",
      "[[ 6  4  2  0]\n",
      " [14 12 10  8]\n",
      " [22 20 18 16]]\n"
     ]
    }
   ],
   "source": [
    "# Indexing and slicing on multi-dimensional array\n",
    "b = np.arange(0, 24, 2).reshape(3, 4)\n",
    "print (b)\n",
    "print (b[1, 2])  # Indexing, indices are given in a list of numbers separated by commas\n",
    "print (b[0:2, 1]) # Slicing, returns each row in the second column\n",
    "print (b[:, 1]) # Slicing, returns each row in the second column\n",
    "print (b[::-1, ::-1]) # Slicing, access all rows in reversed order, and also all elements in each row in reversed order\n",
    "print (b[:, ::-1]) # Slicing, access all rows, and in each row, access the elements in reversed order"
   ]
  },
  {
   "cell_type": "markdown",
   "metadata": {},
   "source": [
    "#### Mixing Indexing with Slicing"
   ]
  },
  {
   "cell_type": "code",
   "execution_count": 41,
   "metadata": {},
   "outputs": [
    {
     "name": "stdout",
     "output_type": "stream",
     "text": [
      "[[ 0  1  2  3]\n",
      " [ 4  5  6  7]\n",
      " [ 8  9 10 11]]\n"
     ]
    }
   ],
   "source": [
    "a = np.arange(0, 12).reshape(3, 4)\n",
    "print (a)"
   ]
  },
  {
   "cell_type": "code",
   "execution_count": 42,
   "metadata": {},
   "outputs": [
    {
     "name": "stdout",
     "output_type": "stream",
     "text": [
      "[4 5 6 7]\n",
      "[[0 1 2 3]\n",
      " [4 5 6 7]]\n"
     ]
    }
   ],
   "source": [
    "print(a[1, :]) # Returns the second row of a as a 1d array\n",
    "print(a[0:2, :]) # Returns the 1st and 2nd rows of a as a 2d array"
   ]
  },
  {
   "cell_type": "code",
   "execution_count": 43,
   "metadata": {},
   "outputs": [
    {
     "name": "stdout",
     "output_type": "stream",
     "text": [
      "[ 3  7 11]\n",
      "[[0 1]\n",
      " [4 5]\n",
      " [8 9]]\n"
     ]
    }
   ],
   "source": [
    "print(a[:, 3]) # Returns the last elements in each row of a as 1d array\n",
    "print(a[:, 0:2]) # Returns the first two elements in each row of a as a 2d array"
   ]
  },
  {
   "cell_type": "markdown",
   "metadata": {
    "id": "5BbXPoGFz1s1"
   },
   "source": [
    "### Indexing with Array of Indices\n",
    "- We can create an array using data from another array"
   ]
  },
  {
   "cell_type": "code",
   "execution_count": 44,
   "metadata": {
    "id": "aS-7S67Sz1s1",
    "outputId": "6d70508e-346b-4266-d418-a5ad2dd45e65"
   },
   "outputs": [
    {
     "name": "stdout",
     "output_type": "stream",
     "text": [
      "[0 4 6]\n",
      "[0 7]\n",
      "[2 2]\n"
     ]
    }
   ],
   "source": [
    "a = np.arange(9).reshape(3, 3) # [[0,1,2],[3,4,5],[6,7,8]]\n",
    "print (a[[0, 1, 2], [0, 1, 0]]) # a[0, 0], a[1, 1], a[2, 0] are selected\n",
    "print (a[[0, 2], [0, 1]]) # a[0, 0], a[2, 1] are selected\n",
    "print (a[[0, 0], [2, 2]]) # a[0, 2] are selected twice"
   ]
  },
  {
   "cell_type": "markdown",
   "metadata": {
    "id": "LNmXeggtz1s0"
   },
   "source": [
    "### Indexing with Boolean Array\n",
    "- We create create an array by selecting elements of an array that satisfy certain condition"
   ]
  },
  {
   "cell_type": "code",
   "execution_count": 45,
   "metadata": {
    "id": "HT_7K8n0z1s0",
    "outputId": "960f6590-32fa-4e55-c476-a9a222c6fe90"
   },
   "outputs": [
    {
     "name": "stdout",
     "output_type": "stream",
     "text": [
      "[[0 1 2]\n",
      " [3 4 5]\n",
      " [6 7 8]]\n",
      "[[False  True  True]\n",
      " [ True  True  True]\n",
      " [ True  True  True]]\n"
     ]
    }
   ],
   "source": [
    "a = np.arange(9).reshape(3, 3) # [[0,1,2],[3,4,5],[6,7,8]]\n",
    "print (a)\n",
    "print (a > 0) # Returns an ndarray of Boolean values with the same shape as a\n",
    "              # If the element in a is larger than 0 (>0), the corresponding position in the returned array is True"
   ]
  },
  {
   "cell_type": "code",
   "execution_count": 46,
   "metadata": {
    "id": "0k-h1fIrz1s1",
    "outputId": "2daf6cc2-9a6d-436b-e339-f93c28e91d68"
   },
   "outputs": [
    {
     "name": "stdout",
     "output_type": "stream",
     "text": [
      "[0 1 2 3 4]\n",
      "[0 2 4 6 8]\n"
     ]
    }
   ],
   "source": [
    "a = np.arange(9).reshape(3, 3) # [[0,1,2],[3,4,5],[6,7,8]]\n",
    "print (a[ a<5 ]) # Returns an 1d array with elements that are smaller than 5\n",
    "print (a[ a%2 == 0 ]) # Returns an 1d array with elements that are even"
   ]
  },
  {
   "cell_type": "markdown",
   "metadata": {
    "id": "XpaXwAOpz1sx"
   },
   "source": [
    "## Iterating"
   ]
  },
  {
   "cell_type": "code",
   "execution_count": 47,
   "metadata": {
    "id": "G0iiBaeIz1sy",
    "outputId": "b84c6b4b-aca4-4e35-fc1b-d1306e7a6005"
   },
   "outputs": [
    {
     "name": "stdout",
     "output_type": "stream",
     "text": [
      "[0 2 4 6]\n",
      "[ 8 10 12 14]\n",
      "[16 18 20 22]\n"
     ]
    }
   ],
   "source": [
    "b = np.arange(0, 24, 2).reshape(3, 4)\n",
    "for row in b:\n",
    "    print (row)"
   ]
  },
  {
   "cell_type": "code",
   "execution_count": 48,
   "metadata": {
    "id": "BKj4DlW_z1sy",
    "outputId": "711b4e0c-bf34-43bc-f0e1-21bd702b8e76"
   },
   "outputs": [
    {
     "name": "stdout",
     "output_type": "stream",
     "text": [
      "0\n",
      "2\n",
      "4\n",
      "6\n",
      "8\n",
      "10\n",
      "12\n",
      "14\n",
      "16\n",
      "18\n",
      "20\n",
      "22\n"
     ]
    }
   ],
   "source": [
    "for x in b.flat:\n",
    "    print (x)"
   ]
  },
  {
   "cell_type": "markdown",
   "metadata": {
    "id": "_es4VLrzz1sy"
   },
   "source": [
    "## Copying"
   ]
  },
  {
   "cell_type": "code",
   "execution_count": 49,
   "metadata": {
    "id": "dnoiR6Q-z1sz",
    "outputId": "8ce88df5-7b8d-4919-ef8c-564107073eb0"
   },
   "outputs": [
    {
     "name": "stdout",
     "output_type": "stream",
     "text": [
      "[[0 1 2]\n",
      " [3 4 5]]\n",
      "[[  0   1 100]\n",
      " [  3   4   5]]\n"
     ]
    }
   ],
   "source": [
    "a = np.arange(6).reshape(2, 3) # [[0,1,2],[3,4,5]]\n",
    "print (a)\n",
    "\n",
    "b = a # b is a reference of a, not a new array object\n",
    "b[0, 2] = 100 # Modifying one of b's elements\n",
    "print (a) # a is modified "
   ]
  },
  {
   "cell_type": "code",
   "execution_count": 50,
   "metadata": {
    "id": "Ng5bLnABz1sz",
    "outputId": "9d9d487d-f9ba-4518-e514-cde5d992dbed"
   },
   "outputs": [
    {
     "name": "stdout",
     "output_type": "stream",
     "text": [
      "[[0 1 2]\n",
      " [3 4 5]]\n"
     ]
    }
   ],
   "source": [
    "a = np.arange(6).reshape(2, 3) # [[0,1,2],[3,4,5]]\n",
    "b = a.copy() # b is a new array object\n",
    "\n",
    "b[0, 2] = 100 # Modifying one of b's elements\n",
    "print (a) # Only b is modified, but not a"
   ]
  },
  {
   "cell_type": "code",
   "execution_count": 51,
   "metadata": {
    "id": "quyGj8SFz1sz",
    "outputId": "ddd932af-6de8-4e5a-fe9a-f441c19cb545"
   },
   "outputs": [
    {
     "name": "stdout",
     "output_type": "stream",
     "text": [
      "[[  0   1 100]\n",
      " [  3   4   5]]\n"
     ]
    }
   ],
   "source": [
    "a = np.arange(6).reshape(2, 3) # [[0,1,2],[3,4,5]]\n",
    "b = a.view() # b is a new array object\n",
    "\n",
    "b[0, 2] = 100 # Modifying one of b's elements\n",
    "b.resize(3, 2) # b's shape is changed\n",
    "print (a) # a's data is changed but shape is not changed"
   ]
  },
  {
   "cell_type": "code",
   "execution_count": 52,
   "metadata": {
    "id": "brYYeo9Zz1s0",
    "outputId": "e8449f59-6a47-46f8-c327-1cba0c627d6d"
   },
   "outputs": [
    {
     "name": "stdout",
     "output_type": "stream",
     "text": [
      "[[  0   1 100]\n",
      " [  3   4   5]\n",
      " [  6   7   8]]\n"
     ]
    }
   ],
   "source": [
    "a = np.arange(9).reshape(3, 3) # [[0,1,2],[3,4,5],[6,7,8]]\n",
    "b = a[:2] # b is a new array object: [[0,1,2],[3,4,5]]\n",
    "b[0, 2] = 100 # Modifying one of b's elements\n",
    "print (a) # a is also modified"
   ]
  },
  {
   "cell_type": "markdown",
   "metadata": {
    "id": "wvhxBS3Az1s1"
   },
   "source": [
    "## Data Types\n",
    "- NumPy tries to guess the datatype when we are creating an array.\n",
    "- We can also create an array specifying the datatype explicitly.\n",
    "- For more about the datatypes, https://numpy.org/doc/stable/reference/arrays.scalars.html"
   ]
  },
  {
   "cell_type": "code",
   "execution_count": 53,
   "metadata": {
    "id": "qBWOFg8tz1s1",
    "outputId": "09cc92d8-4aa8-44f6-9d73-1db714f60e31"
   },
   "outputs": [
    {
     "name": "stdout",
     "output_type": "stream",
     "text": [
      "[1. 2. 3.]\n",
      "<class 'numpy.float64'>\n"
     ]
    }
   ],
   "source": [
    "x = np.double([1, 2, 3]) # double-precision floating-point number\n",
    "print (x)\n",
    "print (type(x[0]))"
   ]
  },
  {
   "cell_type": "code",
   "execution_count": 54,
   "metadata": {
    "id": "GqutUDlyz1s1",
    "outputId": "a9b6e37a-86be-4d7c-e6d4-875639566323"
   },
   "outputs": [
    {
     "name": "stdout",
     "output_type": "stream",
     "text": [
      "[ 0  1 -2]\n",
      "<class 'numpy.intc'>\n"
     ]
    }
   ],
   "source": [
    "y = np.intc([0.5, 1.5, -2.5]) # signed integers\n",
    "print (y)\n",
    "print (type(y[0]))"
   ]
  },
  {
   "cell_type": "code",
   "execution_count": 55,
   "metadata": {
    "id": "mnYyR9AMz1s2",
    "outputId": "c8b3f9ce-6e76-4b7e-a649-19218b48e576"
   },
   "outputs": [
    {
     "name": "stdout",
     "output_type": "stream",
     "text": [
      "[0 1 2 3 4]\n"
     ]
    }
   ],
   "source": [
    "z = np.arange(5, dtype=np.int64) # create an array of integer values\n",
    "print (z)"
   ]
  },
  {
   "cell_type": "code",
   "execution_count": 56,
   "metadata": {
    "id": "qGSDI6-Lz1s2",
    "outputId": "1b3554cb-c27c-47a4-cf99-ef8829883ccd"
   },
   "outputs": [
    {
     "name": "stdout",
     "output_type": "stream",
     "text": [
      "[0.5 1.5 2.5]\n"
     ]
    }
   ],
   "source": [
    "w = np.array([0.5, 1.5, 2.5], dtype=np.double) # create an array of double datatype values\n",
    "print (w)"
   ]
  },
  {
   "cell_type": "code",
   "execution_count": 57,
   "metadata": {
    "id": "rp0thcFuz1s2",
    "outputId": "0e8edce4-b56a-4763-c453-d10c7196b7cc"
   },
   "outputs": [
    {
     "name": "stdout",
     "output_type": "stream",
     "text": [
      "[0 1 2]\n"
     ]
    }
   ],
   "source": [
    "a = w.astype(int) # Return a copy of the array casted to the given type\n",
    "print (a)"
   ]
  },
  {
   "cell_type": "markdown",
   "metadata": {
    "id": "4Zmjpc-bz1s2"
   },
   "source": [
    "## Broadcasting\n",
    "\n",
    "- NumPy broadcasting allows us to work with arrays of different shapes when performing arithmetic operations."
   ]
  },
  {
   "cell_type": "code",
   "execution_count": 58,
   "metadata": {},
   "outputs": [
    {
     "name": "stdout",
     "output_type": "stream",
     "text": [
      "[[ 1  2  3]\n",
      " [ 4  5  6]\n",
      " [ 7  8  9]\n",
      " [10 11 12]]\n",
      "[1 0 1]\n"
     ]
    }
   ],
   "source": [
    "a = np.arange(1, 13).reshape(4, 3)\n",
    "print (a)\n",
    "b = np.array([1,0,1])\n",
    "print (b)"
   ]
  },
  {
   "cell_type": "code",
   "execution_count": 59,
   "metadata": {},
   "outputs": [
    {
     "name": "stdout",
     "output_type": "stream",
     "text": [
      "[[ 2  2  4]\n",
      " [ 5  5  7]\n",
      " [ 8  8 10]\n",
      " [11 11 13]]\n"
     ]
    }
   ],
   "source": [
    "x = a + b # add the vector v to each row vector in matrix a with broadcasting\n",
    "print (x)"
   ]
  },
  {
   "cell_type": "markdown",
   "metadata": {},
   "source": [
    "- The use of broadcasting above is the same as using an explicit loop below.\n",
    "- Broadcasting will be more efficient than the explicit loop when the matrix is very large."
   ]
  },
  {
   "cell_type": "code",
   "execution_count": 60,
   "metadata": {},
   "outputs": [
    {
     "name": "stdout",
     "output_type": "stream",
     "text": [
      "[[ 2  2  4]\n",
      " [ 5  5  7]\n",
      " [ 8  8 10]\n",
      " [11 11 13]]\n"
     ]
    }
   ],
   "source": [
    "y = np.zeros((4, 3), dtype=int)\n",
    "for i in range(4):\n",
    "    y[i, :] = a[i, :] + b\n",
    "print (y)    "
   ]
  },
  {
   "cell_type": "code",
   "execution_count": null,
   "metadata": {},
   "outputs": [],
   "source": []
  }
 ],
 "metadata": {
  "colab": {
   "collapsed_sections": [],
   "name": "tut05_python_numpy.ipynb",
   "provenance": []
  },
  "kernelspec": {
   "display_name": "Python 3 (ipykernel)",
   "language": "python",
   "name": "python3"
  },
  "language_info": {
   "codemirror_mode": {
    "name": "ipython",
    "version": 3
   },
   "file_extension": ".py",
   "mimetype": "text/x-python",
   "name": "python",
   "nbconvert_exporter": "python",
   "pygments_lexer": "ipython3",
   "version": "3.9.12"
  }
 },
 "nbformat": 4,
 "nbformat_minor": 1
}
