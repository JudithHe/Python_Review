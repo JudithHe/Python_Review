{
 "cells": [
  {
   "cell_type": "markdown",
   "id": "e3555a73",
   "metadata": {},
   "source": [
    "# MSBD5001 Foundations of Data Analytics\n",
    "# Tutorial 4\n",
    "# Python Pandas Basics\n",
    "\n",
    "In this section, we will introduce the Python library, Pandas.\n",
    "\n"
   ]
  },
  {
   "cell_type": "markdown",
   "id": "3307342e",
   "metadata": {},
   "source": [
    "- [Introduction](#intro)\n",
    "- [Installation](#install)\n",
    "- [Import NumPy and Pandas](#import)\n",
    "- [Series and DataFrame](#dataframe)\n",
    "- [Converting Data Types](#convert_data_types)\n",
    "- [Selecting a Subset of DataFRame](#select_subset)\n",
    "- [Adding and Removing Rows and Columns](#add_remove)\n",
    "- [Applying Functions to a Column in a DataFrame](#apply)\n",
    "- [File IO](#fileio)\n",
    "- [Descriptive Statistics](#descriptives)\n",
    "- [Handling Missing Values](#missing)\n"
   ]
  },
  {
   "cell_type": "markdown",
   "id": "447c1264",
   "metadata": {},
   "source": [
    "## What is Pandas?\n",
    "\n",
    "Pandas stands for Panel Data Analysis.\n",
    "\n",
    "Pandas is a library for structured data operations and manipulations\n",
    "It is built on top of NumPy and is used for data wrangling and preparation.\n",
    "<url>https://pandas.pydata.org/docs/index.html</url>"
   ]
  },
  {
   "cell_type": "markdown",
   "id": "93949e6e",
   "metadata": {},
   "source": [
    "<a name=\"intro\"></a>\n",
    "## NumPy vs Pandas\n",
    "\n",
    "||NumPy|Pandas|\n",
    "|:-|:-|:-|\n",
    "|Target Data  |Numerical data (arrays and matrix)|Tabular data|\n",
    "|Main Data Object\t| ndarray (multi-dimensional array) | Data frame (2d table) and series (1d array)|\n",
    "|Usage   | Numerical calculations | Data analysis and visualization |\n",
    "| Machine learning, Deep learning | NumPy arrays can be directly fed as inputs to libraries, like, Scikit, Tensorflow\t| Data frame and series cannot be directly fed as inputs to libraries, like, Scikit, Tensorflow |\n",
    "| Memory | Consume less memory | Consume more memory |\n",
    "| Performance | Has a better performance when number of rows is 50K or less\t| Has a better performance when number of rows is 500K or more |\n",
    "| Indexing\t| Indexing of NumPy arrays is very fast\t| Indexing of the Pandas series is very slow |\n",
    "\n",
    "\n"
   ]
  },
  {
   "cell_type": "markdown",
   "id": "36628779",
   "metadata": {},
   "source": [
    "<a name=\"install\"></a>\n",
    "## Installation\n",
    "\n",
    "- conda\n",
    "  - If you have already installed anaconda, in “Anaconda Prompt”, type in the terminal:\n",
    "       ```conda install pandas```\n",
    "\n",
    "- pip \n",
    "  - To install Pandas in Jupyter Notebook using pip, run the following cell:"
   ]
  },
  {
   "cell_type": "code",
   "execution_count": 1,
   "id": "5a54b37f",
   "metadata": {},
   "outputs": [
    {
     "name": "stdout",
     "output_type": "stream",
     "text": [
      "Requirement already satisfied: pandas in c:\\users\\kccecia\\anaconda3\\lib\\site-packages (1.4.2)\n",
      "Requirement already satisfied: pytz>=2020.1 in c:\\users\\kccecia\\anaconda3\\lib\\site-packages (from pandas) (2021.3)\n",
      "Requirement already satisfied: python-dateutil>=2.8.1 in c:\\users\\kccecia\\anaconda3\\lib\\site-packages (from pandas) (2.8.2)\n",
      "Requirement already satisfied: numpy>=1.18.5 in c:\\users\\kccecia\\anaconda3\\lib\\site-packages (from pandas) (1.21.5)\n",
      "Requirement already satisfied: six>=1.5 in c:\\users\\kccecia\\anaconda3\\lib\\site-packages (from python-dateutil>=2.8.1->pandas) (1.16.0)\n"
     ]
    }
   ],
   "source": [
    "!pip install pandas"
   ]
  },
  {
   "cell_type": "markdown",
   "id": "90c30fb3",
   "metadata": {},
   "source": [
    "For more information: [https://pandas.pydata.org/pandas-docs/stable/getting_started/install.html](https://pandas.pydata.org/pandas-docs/stable/getting_started/install.html)"
   ]
  },
  {
   "cell_type": "markdown",
   "id": "520327d2",
   "metadata": {},
   "source": [
    "<a name=\"import\"></a>\n",
    "## Import the Pandas and NumPy packages"
   ]
  },
  {
   "cell_type": "code",
   "execution_count": 2,
   "id": "0559c34a",
   "metadata": {},
   "outputs": [],
   "source": [
    "import numpy as np\n",
    "import pandas as pd"
   ]
  },
  {
   "cell_type": "markdown",
   "id": "2970db8c",
   "metadata": {},
   "source": [
    "- In the following examples, it is assumed that the name, pd, is bound to Pandas. \n",
    "- In some examples, it is assumed that NumPy is imported and the name, np, is bound to NumPy."
   ]
  },
  {
   "cell_type": "markdown",
   "id": "62cbba2b",
   "metadata": {},
   "source": [
    "<a name=\"dataframe\"></a>\n",
    "## Pandas Series and DataFrame"
   ]
  },
  {
   "cell_type": "markdown",
   "id": "df6f8732",
   "metadata": {},
   "source": [
    "A DataFrame is a 2-dimensional data structure that can store data of different types (including characters, integers, floating point values, categorical data and more) in columns. It is like a table in spreadsheet.\n",
    "\n",
    "A Panda Series is like a column in a table.\n",
    "\n",
    "| Dimensions | Name | Description |\n",
    "|:-|:-|:-|\n",
    "| 1 | Series | 1D labeled homogeneously-typed array |\n",
    "| 2\t| DataFrame\t| General 2D labeled, size-mutable tabular structure with potentially heterogeneously-typed column |\n"
   ]
  },
  {
   "attachments": {
    "image-2.png": {
     "image/png": "[encoded data removed]"
    }
   },
   "cell_type": "markdown",
   "id": "4a2c881e",
   "metadata": {},
   "source": [
    "![image-2.png](attachment:image-2.png)"
   ]
  },
  {
   "cell_type": "markdown",
   "id": "8a5d683e",
   "metadata": {},
   "source": [
    "For example, let's have a table with 3 columns for storing the name, age and gender of people. Each of the column has a column label. The values stored in the two columns, Name and Gender, are strings, while the values stored in the column, Age, are numbers. \n",
    "\n",
    "|Name|Age|Gender|\n",
    "|----|---|------|\n",
    "|Bob |4|Male|\n",
    "|Agnes|6|Female|\n",
    "|Kevin|5|Male|\n",
    "|Stuart|5|Male|"
   ]
  },
  {
   "cell_type": "markdown",
   "id": "a0590f22",
   "metadata": {},
   "source": [
    "### Creating Series"
   ]
  },
  {
   "cell_type": "markdown",
   "id": "2686689e",
   "metadata": {},
   "source": [
    "To create a series for storing the column, Age, only:"
   ]
  },
  {
   "cell_type": "code",
   "execution_count": 3,
   "id": "42bd13e4",
   "metadata": {},
   "outputs": [
    {
     "name": "stdout",
     "output_type": "stream",
     "text": [
      "0    4\n",
      "1    6\n",
      "2    5\n",
      "3    5\n",
      "Name: Age, dtype: int64\n"
     ]
    }
   ],
   "source": [
    "ages = pd.Series([4, 6, 5, 5], name='Age')\n",
    "print(ages)"
   ]
  },
  {
   "cell_type": "markdown",
   "id": "e53502b2",
   "metadata": {},
   "source": [
    "Each of the value in the series has a corresponding row label. In the above example, the row labels (indices) are 0, 1, 2, 3."
   ]
  },
  {
   "cell_type": "code",
   "execution_count": 4,
   "id": "55954fe7",
   "metadata": {},
   "outputs": [
    {
     "name": "stdout",
     "output_type": "stream",
     "text": [
      "ages[1]= 6\n"
     ]
    }
   ],
   "source": [
    "print(\"ages[1]=\", ages[1])"
   ]
  },
  {
   "cell_type": "markdown",
   "id": "b116ed2a",
   "metadata": {},
   "source": [
    "We can also assign our own labels (indices):"
   ]
  },
  {
   "cell_type": "code",
   "execution_count": 5,
   "id": "4e6de342",
   "metadata": {},
   "outputs": [
    {
     "name": "stdout",
     "output_type": "stream",
     "text": [
      "d    4\n",
      "a    6\n",
      "c    5\n",
      "b    5\n",
      "Name: Age, dtype: int64\n"
     ]
    }
   ],
   "source": [
    "ages = pd.Series([4, 6, 5, 5], name='Age', index = [\"d\", \"a\", \"c\", \"b\"])\n",
    "print(ages)"
   ]
  },
  {
   "cell_type": "code",
   "execution_count": 6,
   "id": "119cbefc",
   "metadata": {},
   "outputs": [
    {
     "name": "stdout",
     "output_type": "stream",
     "text": [
      "ages[\"a\"]= 6\n"
     ]
    }
   ],
   "source": [
    "print('ages[\"a\"]=', ages[\"a\"])"
   ]
  },
  {
   "cell_type": "markdown",
   "id": "51576229",
   "metadata": {},
   "source": [
    "### Creating data frame"
   ]
  },
  {
   "cell_type": "markdown",
   "id": "58acae89",
   "metadata": {},
   "source": [
    "Create a DataFrame using a dictionary. "
   ]
  },
  {
   "cell_type": "code",
   "execution_count": 7,
   "id": "f45a0187",
   "metadata": {},
   "outputs": [
    {
     "name": "stdout",
     "output_type": "stream",
     "text": [
      "     Name  Age  Gender\n",
      "0     Bob    4    Male\n",
      "1   Agnes    6  Female\n",
      "2   Kevin    5    Male\n",
      "3  Stuart    5    Male\n",
      "Name      object\n",
      "Age        int64\n",
      "Gender    object\n",
      "dtype: object\n"
     ]
    }
   ],
   "source": [
    "d = {'Name':['Bob', 'Agnes', 'Kevin', 'Stuart'], \n",
    "     'Age':[4, 6, 5, 5], 'Gender':['Male', 'Female', 'Male', 'Male']}\n",
    "df = pd.DataFrame(d)\n",
    "print (df)\n",
    "print (df.dtypes)"
   ]
  },
  {
   "cell_type": "markdown",
   "id": "8ff6a631",
   "metadata": {},
   "source": [
    "Note: Data types are inferred. pandas.DataFrame.dtypes returns the dyptes in the data frame."
   ]
  },
  {
   "cell_type": "markdown",
   "id": "33fa8f80",
   "metadata": {},
   "source": [
    "Create a DataFrame using NumPy array."
   ]
  },
  {
   "cell_type": "code",
   "execution_count": 8,
   "id": "4395ef09",
   "metadata": {},
   "outputs": [
    {
     "name": "stdout",
     "output_type": "stream",
     "text": [
      "     Name Age  Gender\n",
      "0     Bob   4    Male\n",
      "1   Anges   6  Female\n",
      "2   Kevin   5    Male\n",
      "3  Stuart   5    Male\n",
      "Name      object\n",
      "Age       object\n",
      "Gender    object\n",
      "dtype: object\n"
     ]
    }
   ],
   "source": [
    "a = np.array([['Bob', 4, 'Male'], ['Anges', 6, 'Female'], ['Kevin', 5, 'Male'], ['Stuart', 5, 'Male']])\n",
    "df2 = pd.DataFrame(a, columns=['Name','Age','Gender'])\n",
    "print (df2)\n",
    "print (df2.dtypes)"
   ]
  },
  {
   "cell_type": "markdown",
   "id": "b56ad406",
   "metadata": {},
   "source": [
    "<a name=\"convert_data_types\"></a>\n",
    "## Converting data types\n",
    "\n",
    "We can use astype() to convert a column to a specific data type"
   ]
  },
  {
   "cell_type": "code",
   "execution_count": 9,
   "id": "33077258",
   "metadata": {},
   "outputs": [
    {
     "data": {
      "text/plain": [
       "Name      object\n",
       "Age        int32\n",
       "Gender    object\n",
       "dtype: object"
      ]
     },
     "execution_count": 9,
     "metadata": {},
     "output_type": "execute_result"
    }
   ],
   "source": [
    "df3 = df2.astype({'Age':'int'})\n",
    "df3.dtypes"
   ]
  },
  {
   "cell_type": "code",
   "execution_count": 10,
   "id": "4a473492",
   "metadata": {},
   "outputs": [
    {
     "data": {
      "text/html": [
       "<div>\n",
       "<style scoped>\n",
       "    .dataframe tbody tr th:only-of-type {\n",
       "        vertical-align: middle;\n",
       "    }\n",
       "\n",
       "    .dataframe tbody tr th {\n",
       "        vertical-align: top;\n",
       "    }\n",
       "\n",
       "    .dataframe thead th {\n",
       "        text-align: right;\n",
       "    }\n",
       "</style>\n",
       "<table border=\"1\" class=\"dataframe\">\n",
       "  <thead>\n",
       "    <tr style=\"text-align: right;\">\n",
       "      <th></th>\n",
       "      <th>Name</th>\n",
       "      <th>Age</th>\n",
       "      <th>Gender</th>\n",
       "    </tr>\n",
       "  </thead>\n",
       "  <tbody>\n",
       "    <tr>\n",
       "      <th>A</th>\n",
       "      <td>Bob</td>\n",
       "      <td>4</td>\n",
       "      <td>Male</td>\n",
       "    </tr>\n",
       "    <tr>\n",
       "      <th>B</th>\n",
       "      <td>Anges</td>\n",
       "      <td>6</td>\n",
       "      <td>Female</td>\n",
       "    </tr>\n",
       "    <tr>\n",
       "      <th>C</th>\n",
       "      <td>Kevin</td>\n",
       "      <td>5</td>\n",
       "      <td>Male</td>\n",
       "    </tr>\n",
       "    <tr>\n",
       "      <th>D</th>\n",
       "      <td>Stuart</td>\n",
       "      <td>5</td>\n",
       "      <td>Male</td>\n",
       "    </tr>\n",
       "  </tbody>\n",
       "</table>\n",
       "</div>"
      ],
      "text/plain": [
       "     Name  Age  Gender\n",
       "A     Bob    4    Male\n",
       "B   Anges    6  Female\n",
       "C   Kevin    5    Male\n",
       "D  Stuart    5    Male"
      ]
     },
     "execution_count": 10,
     "metadata": {},
     "output_type": "execute_result"
    }
   ],
   "source": [
    "df3.index = ['A', 'B', 'C', 'D'] # Change the default index (label)\n",
    "df3"
   ]
  },
  {
   "cell_type": "markdown",
   "id": "4b9c0eec",
   "metadata": {},
   "source": [
    "<a name=\"select_subset\"></a>\n",
    "## Selecting a Subset of the DataFrame"
   ]
  },
  {
   "cell_type": "markdown",
   "id": "e0cd09e2",
   "metadata": {},
   "source": [
    "### Selecting a Single Cell\n",
    "- DataFrame.at[]\n",
    "    - Access a single value given a row/column **label** pair."
   ]
  },
  {
   "cell_type": "code",
   "execution_count": 11,
   "id": "a1a8d20b",
   "metadata": {},
   "outputs": [
    {
     "data": {
      "text/plain": [
       "'Agnes'"
      ]
     },
     "execution_count": 11,
     "metadata": {},
     "output_type": "execute_result"
    }
   ],
   "source": [
    "df.at[1, 'Name']"
   ]
  },
  {
   "cell_type": "markdown",
   "id": "66eafe68",
   "metadata": {},
   "source": [
    "### Selecting a Subset"
   ]
  },
  {
   "cell_type": "markdown",
   "id": "b9abee3a",
   "metadata": {},
   "source": [
    "#### Selecting a particular column\n",
    "- indicate the column label between a pair of square brackets."
   ]
  },
  {
   "cell_type": "code",
   "execution_count": 12,
   "id": "ab5bd19f",
   "metadata": {},
   "outputs": [
    {
     "data": {
      "text/plain": [
       "0    4\n",
       "1    6\n",
       "2    5\n",
       "3    5\n",
       "Name: Age, dtype: int64"
      ]
     },
     "execution_count": 12,
     "metadata": {},
     "output_type": "execute_result"
    }
   ],
   "source": [
    "df['Age']"
   ]
  },
  {
   "cell_type": "markdown",
   "id": "7c3f2987",
   "metadata": {},
   "source": [
    "#### Selecting multiple columns\n",
    "- use a list of column names within the selection brackets []."
   ]
  },
  {
   "cell_type": "code",
   "execution_count": 13,
   "id": "5a172461",
   "metadata": {},
   "outputs": [
    {
     "data": {
      "text/html": [
       "<div>\n",
       "<style scoped>\n",
       "    .dataframe tbody tr th:only-of-type {\n",
       "        vertical-align: middle;\n",
       "    }\n",
       "\n",
       "    .dataframe tbody tr th {\n",
       "        vertical-align: top;\n",
       "    }\n",
       "\n",
       "    .dataframe thead th {\n",
       "        text-align: right;\n",
       "    }\n",
       "</style>\n",
       "<table border=\"1\" class=\"dataframe\">\n",
       "  <thead>\n",
       "    <tr style=\"text-align: right;\">\n",
       "      <th></th>\n",
       "      <th>Name</th>\n",
       "      <th>Age</th>\n",
       "    </tr>\n",
       "  </thead>\n",
       "  <tbody>\n",
       "    <tr>\n",
       "      <th>0</th>\n",
       "      <td>Bob</td>\n",
       "      <td>4</td>\n",
       "    </tr>\n",
       "    <tr>\n",
       "      <th>1</th>\n",
       "      <td>Agnes</td>\n",
       "      <td>6</td>\n",
       "    </tr>\n",
       "    <tr>\n",
       "      <th>2</th>\n",
       "      <td>Kevin</td>\n",
       "      <td>5</td>\n",
       "    </tr>\n",
       "    <tr>\n",
       "      <th>3</th>\n",
       "      <td>Stuart</td>\n",
       "      <td>5</td>\n",
       "    </tr>\n",
       "  </tbody>\n",
       "</table>\n",
       "</div>"
      ],
      "text/plain": [
       "     Name  Age\n",
       "0     Bob    4\n",
       "1   Agnes    6\n",
       "2   Kevin    5\n",
       "3  Stuart    5"
      ]
     },
     "execution_count": 13,
     "metadata": {},
     "output_type": "execute_result"
    }
   ],
   "source": [
    "df[['Name', 'Age']]"
   ]
  },
  {
   "cell_type": "markdown",
   "id": "94cb9e9e",
   "metadata": {},
   "source": [
    "#### Selecting the first rows or the last rows\n",
    "- dataFrame.head(n) – returns the first n rows, if n is missing, the default is 5 rows. \n",
    "- dataFrame.tail(n) – returns the last n rows, if n is missing, the default is 5 rows."
   ]
  },
  {
   "cell_type": "code",
   "execution_count": 14,
   "id": "f2d779d2",
   "metadata": {},
   "outputs": [
    {
     "data": {
      "text/html": [
       "<div>\n",
       "<style scoped>\n",
       "    .dataframe tbody tr th:only-of-type {\n",
       "        vertical-align: middle;\n",
       "    }\n",
       "\n",
       "    .dataframe tbody tr th {\n",
       "        vertical-align: top;\n",
       "    }\n",
       "\n",
       "    .dataframe thead th {\n",
       "        text-align: right;\n",
       "    }\n",
       "</style>\n",
       "<table border=\"1\" class=\"dataframe\">\n",
       "  <thead>\n",
       "    <tr style=\"text-align: right;\">\n",
       "      <th></th>\n",
       "      <th>Name</th>\n",
       "      <th>Age</th>\n",
       "      <th>Gender</th>\n",
       "    </tr>\n",
       "  </thead>\n",
       "  <tbody>\n",
       "    <tr>\n",
       "      <th>0</th>\n",
       "      <td>Bob</td>\n",
       "      <td>4</td>\n",
       "      <td>Male</td>\n",
       "    </tr>\n",
       "    <tr>\n",
       "      <th>1</th>\n",
       "      <td>Agnes</td>\n",
       "      <td>6</td>\n",
       "      <td>Female</td>\n",
       "    </tr>\n",
       "    <tr>\n",
       "      <th>2</th>\n",
       "      <td>Kevin</td>\n",
       "      <td>5</td>\n",
       "      <td>Male</td>\n",
       "    </tr>\n",
       "  </tbody>\n",
       "</table>\n",
       "</div>"
      ],
      "text/plain": [
       "    Name  Age  Gender\n",
       "0    Bob    4    Male\n",
       "1  Agnes    6  Female\n",
       "2  Kevin    5    Male"
      ]
     },
     "execution_count": 14,
     "metadata": {},
     "output_type": "execute_result"
    }
   ],
   "source": [
    "df.head(3)"
   ]
  },
  {
   "cell_type": "markdown",
   "id": "8692c8b5",
   "metadata": {},
   "source": [
    "#### Select some specific rows by applying a Boolean series\n",
    "- The expression below returns a Boolean series of whether the corresponding row with the value of the column ‘Age’ larger than 20.\n"
   ]
  },
  {
   "cell_type": "code",
   "execution_count": 15,
   "id": "7a9642cb",
   "metadata": {},
   "outputs": [
    {
     "data": {
      "text/plain": [
       "0    False\n",
       "1     True\n",
       "2    False\n",
       "3    False\n",
       "Name: Age, dtype: bool"
      ]
     },
     "execution_count": 15,
     "metadata": {},
     "output_type": "execute_result"
    }
   ],
   "source": [
    "df['Age'] > 5 # Return a Boolean series"
   ]
  },
  {
   "cell_type": "markdown",
   "id": "79adc794",
   "metadata": {},
   "source": [
    "Use the Boolean series to filter the rows"
   ]
  },
  {
   "cell_type": "code",
   "execution_count": 16,
   "id": "48586992",
   "metadata": {},
   "outputs": [
    {
     "data": {
      "text/html": [
       "<div>\n",
       "<style scoped>\n",
       "    .dataframe tbody tr th:only-of-type {\n",
       "        vertical-align: middle;\n",
       "    }\n",
       "\n",
       "    .dataframe tbody tr th {\n",
       "        vertical-align: top;\n",
       "    }\n",
       "\n",
       "    .dataframe thead th {\n",
       "        text-align: right;\n",
       "    }\n",
       "</style>\n",
       "<table border=\"1\" class=\"dataframe\">\n",
       "  <thead>\n",
       "    <tr style=\"text-align: right;\">\n",
       "      <th></th>\n",
       "      <th>Name</th>\n",
       "      <th>Age</th>\n",
       "      <th>Gender</th>\n",
       "    </tr>\n",
       "  </thead>\n",
       "  <tbody>\n",
       "    <tr>\n",
       "      <th>1</th>\n",
       "      <td>Agnes</td>\n",
       "      <td>6</td>\n",
       "      <td>Female</td>\n",
       "    </tr>\n",
       "  </tbody>\n",
       "</table>\n",
       "</div>"
      ],
      "text/plain": [
       "    Name  Age  Gender\n",
       "1  Agnes    6  Female"
      ]
     },
     "execution_count": 16,
     "metadata": {},
     "output_type": "execute_result"
    }
   ],
   "source": [
    "df[ df['Age'] > 5 ] # Return the rows which has 'Age' > 20"
   ]
  },
  {
   "cell_type": "markdown",
   "id": "69141b37",
   "metadata": {},
   "source": [
    "#### Selecting specific rows and columns:\n",
    "- pandas.DataFrame.loc – Access a group of rows and columns by label(s) or a boolean array\n",
    "- pandas.DataFrame.iloc – Access a group of rows and columns by indexing (positions)"
   ]
  },
  {
   "cell_type": "code",
   "execution_count": 17,
   "id": "aa939d27",
   "metadata": {},
   "outputs": [
    {
     "data": {
      "text/plain": [
       "Name       Bob\n",
       "Age          4\n",
       "Gender    Male\n",
       "Name: 0, dtype: object"
      ]
     },
     "execution_count": 17,
     "metadata": {},
     "output_type": "execute_result"
    }
   ],
   "source": [
    "df.loc[0] # Return the row with index 0"
   ]
  },
  {
   "cell_type": "code",
   "execution_count": 18,
   "id": "fc9bf5e0",
   "metadata": {},
   "outputs": [
    {
     "data": {
      "text/plain": [
       "'Bob'"
      ]
     },
     "execution_count": 18,
     "metadata": {},
     "output_type": "execute_result"
    }
   ],
   "source": [
    "df.loc[0, 'Name'] # Return the element at row index 0 and column label 'Name'"
   ]
  },
  {
   "cell_type": "code",
   "execution_count": 19,
   "id": "269b3099",
   "metadata": {},
   "outputs": [
    {
     "data": {
      "text/plain": [
       "1    Agnes\n",
       "Name: Name, dtype: object"
      ]
     },
     "execution_count": 19,
     "metadata": {},
     "output_type": "execute_result"
    }
   ],
   "source": [
    "df.loc[ df['Age'] > 5, 'Name'] # Return the names with age > 20"
   ]
  },
  {
   "cell_type": "code",
   "execution_count": 20,
   "id": "dcb35b1f",
   "metadata": {},
   "outputs": [
    {
     "data": {
      "text/plain": [
       "Name       Agnes\n",
       "Age            6\n",
       "Gender    Female\n",
       "Name: 1, dtype: object"
      ]
     },
     "execution_count": 20,
     "metadata": {},
     "output_type": "execute_result"
    }
   ],
   "source": [
    "df.iloc[1] # Return rows with index 1"
   ]
  },
  {
   "cell_type": "code",
   "execution_count": 21,
   "id": "38160b37",
   "metadata": {},
   "outputs": [
    {
     "data": {
      "text/html": [
       "<div>\n",
       "<style scoped>\n",
       "    .dataframe tbody tr th:only-of-type {\n",
       "        vertical-align: middle;\n",
       "    }\n",
       "\n",
       "    .dataframe tbody tr th {\n",
       "        vertical-align: top;\n",
       "    }\n",
       "\n",
       "    .dataframe thead th {\n",
       "        text-align: right;\n",
       "    }\n",
       "</style>\n",
       "<table border=\"1\" class=\"dataframe\">\n",
       "  <thead>\n",
       "    <tr style=\"text-align: right;\">\n",
       "      <th></th>\n",
       "      <th>Name</th>\n",
       "      <th>Age</th>\n",
       "      <th>Gender</th>\n",
       "    </tr>\n",
       "  </thead>\n",
       "  <tbody>\n",
       "    <tr>\n",
       "      <th>1</th>\n",
       "      <td>Agnes</td>\n",
       "      <td>6</td>\n",
       "      <td>Female</td>\n",
       "    </tr>\n",
       "    <tr>\n",
       "      <th>2</th>\n",
       "      <td>Kevin</td>\n",
       "      <td>5</td>\n",
       "      <td>Male</td>\n",
       "    </tr>\n",
       "  </tbody>\n",
       "</table>\n",
       "</div>"
      ],
      "text/plain": [
       "    Name  Age  Gender\n",
       "1  Agnes    6  Female\n",
       "2  Kevin    5    Male"
      ]
     },
     "execution_count": 21,
     "metadata": {},
     "output_type": "execute_result"
    }
   ],
   "source": [
    "df.iloc[[1, 2]] # Return rows with index 1 & 2"
   ]
  },
  {
   "cell_type": "code",
   "execution_count": 22,
   "id": "fdbb71e7",
   "metadata": {},
   "outputs": [
    {
     "data": {
      "text/plain": [
       "4"
      ]
     },
     "execution_count": 22,
     "metadata": {},
     "output_type": "execute_result"
    }
   ],
   "source": [
    "df.iloc[0, 1] # Return the element at row index 0 and column index 1"
   ]
  },
  {
   "cell_type": "markdown",
   "id": "39cb4af6",
   "metadata": {},
   "source": [
    "#### Slicing with Row and Column Numbers"
   ]
  },
  {
   "cell_type": "code",
   "execution_count": 23,
   "id": "5845ff71",
   "metadata": {},
   "outputs": [
    {
     "data": {
      "text/plain": [
       "0      Bob\n",
       "1    Agnes\n",
       "2    Kevin\n",
       "Name: Name, dtype: object"
      ]
     },
     "execution_count": 23,
     "metadata": {},
     "output_type": "execute_result"
    }
   ],
   "source": [
    "df.loc[:2, 'Name'] # Return rows 0 to 2-1 (slicing) and column label 'Name'"
   ]
  },
  {
   "cell_type": "code",
   "execution_count": 24,
   "id": "4ea87812",
   "metadata": {},
   "outputs": [
    {
     "data": {
      "text/html": [
       "<div>\n",
       "<style scoped>\n",
       "    .dataframe tbody tr th:only-of-type {\n",
       "        vertical-align: middle;\n",
       "    }\n",
       "\n",
       "    .dataframe tbody tr th {\n",
       "        vertical-align: top;\n",
       "    }\n",
       "\n",
       "    .dataframe thead th {\n",
       "        text-align: right;\n",
       "    }\n",
       "</style>\n",
       "<table border=\"1\" class=\"dataframe\">\n",
       "  <thead>\n",
       "    <tr style=\"text-align: right;\">\n",
       "      <th></th>\n",
       "      <th>Name</th>\n",
       "    </tr>\n",
       "  </thead>\n",
       "  <tbody>\n",
       "    <tr>\n",
       "      <th>0</th>\n",
       "      <td>Bob</td>\n",
       "    </tr>\n",
       "    <tr>\n",
       "      <th>1</th>\n",
       "      <td>Agnes</td>\n",
       "    </tr>\n",
       "  </tbody>\n",
       "</table>\n",
       "</div>"
      ],
      "text/plain": [
       "    Name\n",
       "0    Bob\n",
       "1  Agnes"
      ]
     },
     "execution_count": 24,
     "metadata": {},
     "output_type": "execute_result"
    }
   ],
   "source": [
    "df.iloc[0:2, 0:1] # Return the rows before index 2 and \n",
    "                  # columns before index 1"
   ]
  },
  {
   "cell_type": "markdown",
   "id": "cd3e6f55",
   "metadata": {},
   "source": [
    "#### Slicing with Labels"
   ]
  },
  {
   "cell_type": "code",
   "execution_count": 25,
   "id": "d14d83b5",
   "metadata": {},
   "outputs": [
    {
     "data": {
      "text/html": [
       "<div>\n",
       "<style scoped>\n",
       "    .dataframe tbody tr th:only-of-type {\n",
       "        vertical-align: middle;\n",
       "    }\n",
       "\n",
       "    .dataframe tbody tr th {\n",
       "        vertical-align: top;\n",
       "    }\n",
       "\n",
       "    .dataframe thead th {\n",
       "        text-align: right;\n",
       "    }\n",
       "</style>\n",
       "<table border=\"1\" class=\"dataframe\">\n",
       "  <thead>\n",
       "    <tr style=\"text-align: right;\">\n",
       "      <th></th>\n",
       "      <th>Age</th>\n",
       "      <th>Gender</th>\n",
       "    </tr>\n",
       "  </thead>\n",
       "  <tbody>\n",
       "    <tr>\n",
       "      <th>B</th>\n",
       "      <td>6</td>\n",
       "      <td>Female</td>\n",
       "    </tr>\n",
       "    <tr>\n",
       "      <th>C</th>\n",
       "      <td>5</td>\n",
       "      <td>Male</td>\n",
       "    </tr>\n",
       "    <tr>\n",
       "      <th>D</th>\n",
       "      <td>5</td>\n",
       "      <td>Male</td>\n",
       "    </tr>\n",
       "  </tbody>\n",
       "</table>\n",
       "</div>"
      ],
      "text/plain": [
       "   Age  Gender\n",
       "B    6  Female\n",
       "C    5    Male\n",
       "D    5    Male"
      ]
     },
     "execution_count": 25,
     "metadata": {},
     "output_type": "execute_result"
    }
   ],
   "source": [
    "df3.loc['B':'D', 'Age':'Gender']"
   ]
  },
  {
   "cell_type": "markdown",
   "id": "b5f2b8cc",
   "metadata": {},
   "source": [
    "Both loc & iloc can be used to modify values, but iloc will give out-of-bound error."
   ]
  },
  {
   "cell_type": "code",
   "execution_count": 26,
   "id": "88a038fb",
   "metadata": {},
   "outputs": [
    {
     "data": {
      "text/html": [
       "<div>\n",
       "<style scoped>\n",
       "    .dataframe tbody tr th:only-of-type {\n",
       "        vertical-align: middle;\n",
       "    }\n",
       "\n",
       "    .dataframe tbody tr th {\n",
       "        vertical-align: top;\n",
       "    }\n",
       "\n",
       "    .dataframe thead th {\n",
       "        text-align: right;\n",
       "    }\n",
       "</style>\n",
       "<table border=\"1\" class=\"dataframe\">\n",
       "  <thead>\n",
       "    <tr style=\"text-align: right;\">\n",
       "      <th></th>\n",
       "      <th>Name</th>\n",
       "      <th>Age</th>\n",
       "      <th>Gender</th>\n",
       "    </tr>\n",
       "  </thead>\n",
       "  <tbody>\n",
       "    <tr>\n",
       "      <th>0</th>\n",
       "      <td>Bob</td>\n",
       "      <td>23</td>\n",
       "      <td>Male</td>\n",
       "    </tr>\n",
       "    <tr>\n",
       "      <th>1</th>\n",
       "      <td>Agnes</td>\n",
       "      <td>20</td>\n",
       "      <td>Female</td>\n",
       "    </tr>\n",
       "    <tr>\n",
       "      <th>2</th>\n",
       "      <td>Kevin</td>\n",
       "      <td>5</td>\n",
       "      <td>Male</td>\n",
       "    </tr>\n",
       "    <tr>\n",
       "      <th>3</th>\n",
       "      <td>Stuart</td>\n",
       "      <td>5</td>\n",
       "      <td>Male</td>\n",
       "    </tr>\n",
       "    <tr>\n",
       "      <th>4</th>\n",
       "      <td>David</td>\n",
       "      <td>17</td>\n",
       "      <td>Male</td>\n",
       "    </tr>\n",
       "  </tbody>\n",
       "</table>\n",
       "</div>"
      ],
      "text/plain": [
       "     Name  Age  Gender\n",
       "0     Bob   23    Male\n",
       "1   Agnes   20  Female\n",
       "2   Kevin    5    Male\n",
       "3  Stuart    5    Male\n",
       "4   David   17    Male"
      ]
     },
     "execution_count": 26,
     "metadata": {},
     "output_type": "execute_result"
    }
   ],
   "source": [
    "df.iloc[1, 1] = 20\n",
    "df.loc[0, 'Age'] = 23 # Modify a value\n",
    "df.loc[ df.shape[0] ] = ['David', 17, 'Male'] # Add a new row\n",
    "df"
   ]
  },
  {
   "cell_type": "markdown",
   "id": "c5dac862",
   "metadata": {},
   "source": [
    "<a name=\"add_remove\"></a>\n",
    "### Adding and Removing Rows and Columns"
   ]
  },
  {
   "cell_type": "markdown",
   "id": "0ec724da",
   "metadata": {},
   "source": [
    "#### Adding a Column"
   ]
  },
  {
   "cell_type": "code",
   "execution_count": 27,
   "id": "efc92f53",
   "metadata": {},
   "outputs": [
    {
     "name": "stdout",
     "output_type": "stream",
     "text": [
      "     Name  Age  Gender   Dept\n",
      "0     Bob   23    Male    CSE\n",
      "1   Agnes   20  Female   ELEC\n",
      "2   Kevin    5    Male  CIVIL\n",
      "3  Stuart    5    Male    CSE\n",
      "4   David   17    Male    CSE\n"
     ]
    }
   ],
   "source": [
    "df['Dept'] = np.array(['CSE', 'ELEC', 'CIVIL', 'CSE', 'CSE'])\n",
    "print(df)"
   ]
  },
  {
   "cell_type": "markdown",
   "id": "1b53be36",
   "metadata": {},
   "source": [
    "#### Removing a Column"
   ]
  },
  {
   "cell_type": "code",
   "execution_count": 28,
   "id": "04dac9dc",
   "metadata": {},
   "outputs": [
    {
     "name": "stdout",
     "output_type": "stream",
     "text": [
      "     Name  Age  Gender\n",
      "0     Bob   23    Male\n",
      "1   Agnes   20  Female\n",
      "2   Kevin    5    Male\n",
      "3  Stuart    5    Male\n",
      "4   David   17    Male\n"
     ]
    }
   ],
   "source": [
    "df = df.drop('Dept', axis=1)\n",
    "print(df)"
   ]
  },
  {
   "cell_type": "markdown",
   "id": "fa028aa0",
   "metadata": {},
   "source": [
    "#### Removing Rows"
   ]
  },
  {
   "cell_type": "code",
   "execution_count": 29,
   "id": "d1646d37",
   "metadata": {},
   "outputs": [
    {
     "name": "stdout",
     "output_type": "stream",
     "text": [
      "    Name  Age  Gender\n",
      "0    Bob   23    Male\n",
      "1  Agnes   20  Female\n",
      "2  Kevin    5    Male\n"
     ]
    }
   ],
   "source": [
    "print(df.drop(df.index[[3, 4]])) # removing row number 3 & 4"
   ]
  },
  {
   "cell_type": "markdown",
   "id": "21f949c2",
   "metadata": {},
   "source": [
    "<a name=\"apply\"></a>\n",
    "## Applying Functions to a Column in a DataFrame\n",
    "We can apply functions to values in a DataFrame."
   ]
  },
  {
   "cell_type": "code",
   "execution_count": 30,
   "id": "2d9a1f23",
   "metadata": {},
   "outputs": [
    {
     "name": "stdout",
     "output_type": "stream",
     "text": [
      "0    529\n",
      "1    400\n",
      "2     25\n",
      "3     25\n",
      "4    289\n",
      "Name: Age, dtype: int64\n"
     ]
    }
   ],
   "source": [
    "print (df.Age.apply(lambda x: x**2) )"
   ]
  },
  {
   "cell_type": "markdown",
   "id": "543d8844",
   "metadata": {},
   "source": [
    "<a name=\"fileio\"></a>\n",
    "## File I/O"
   ]
  },
  {
   "cell_type": "markdown",
   "id": "7527544b",
   "metadata": {},
   "source": [
    "### Output\n",
    "- [pandas.DataFrame.to_csv()](https://pandas.pydata.org/docs/reference/api/pandas.DataFrame.to_csv.html?highlight=to_csv#pandas.DataFrame.to_csv)\n",
    "– write the DataFrame to a csv file.\n",
    "- e.g. To write the DataFrame, df, to a csv file, “output.csv”: \n",
    "```df.to_csv(\"output.csv\")```\n"
   ]
  },
  {
   "cell_type": "code",
   "execution_count": 31,
   "id": "ca4f9288",
   "metadata": {},
   "outputs": [],
   "source": [
    "student_df = pd.DataFrame({'Name':['Bob', 'Agnes', 'Gru', 'Stuart'], 'Age':[6, 5, 30, 4], 'Score':[88, 96, 52, np.nan]})\n",
    "student_df.to_csv(\"output.csv\", index=False)"
   ]
  },
  {
   "cell_type": "markdown",
   "id": "deaa664c",
   "metadata": {},
   "source": [
    "### Input\n",
    "- [pandas.read_csv()](https://pandas.pydata.org/docs/reference/api/pandas.read_csv.html?highlight=read_csv#pandas.read_csv)\n",
    "– read the data stored in a csv (comma-separated values) file into a DataFrame. \n",
    "- E.g. To read the csv file, “input.csv” to a DataFrame, df:\n",
    "```df = pd.read_csv(\"input.csv\")``` \n",
    "- For the other format of input data, such as, excel, json, html, etc.:  \n",
    "    [https://pandas.pydata.org/docs/user_guide/io.html#io](https://pandas.pydata.org/docs/user_guide/io.html#io)\n",
    "- Note: by default, the column names are inferred from row 0 of the csv file. \n"
   ]
  },
  {
   "cell_type": "code",
   "execution_count": 32,
   "id": "1b9736f0",
   "metadata": {},
   "outputs": [
    {
     "data": {
      "text/html": [
       "<div>\n",
       "<style scoped>\n",
       "    .dataframe tbody tr th:only-of-type {\n",
       "        vertical-align: middle;\n",
       "    }\n",
       "\n",
       "    .dataframe tbody tr th {\n",
       "        vertical-align: top;\n",
       "    }\n",
       "\n",
       "    .dataframe thead th {\n",
       "        text-align: right;\n",
       "    }\n",
       "</style>\n",
       "<table border=\"1\" class=\"dataframe\">\n",
       "  <thead>\n",
       "    <tr style=\"text-align: right;\">\n",
       "      <th></th>\n",
       "      <th>Name</th>\n",
       "      <th>Age</th>\n",
       "      <th>Score</th>\n",
       "    </tr>\n",
       "  </thead>\n",
       "  <tbody>\n",
       "    <tr>\n",
       "      <th>0</th>\n",
       "      <td>Bob</td>\n",
       "      <td>6</td>\n",
       "      <td>88.0</td>\n",
       "    </tr>\n",
       "    <tr>\n",
       "      <th>1</th>\n",
       "      <td>Agnes</td>\n",
       "      <td>5</td>\n",
       "      <td>96.0</td>\n",
       "    </tr>\n",
       "    <tr>\n",
       "      <th>2</th>\n",
       "      <td>Gru</td>\n",
       "      <td>30</td>\n",
       "      <td>52.0</td>\n",
       "    </tr>\n",
       "    <tr>\n",
       "      <th>3</th>\n",
       "      <td>Stuart</td>\n",
       "      <td>4</td>\n",
       "      <td>NaN</td>\n",
       "    </tr>\n",
       "  </tbody>\n",
       "</table>\n",
       "</div>"
      ],
      "text/plain": [
       "     Name  Age  Score\n",
       "0     Bob    6   88.0\n",
       "1   Agnes    5   96.0\n",
       "2     Gru   30   52.0\n",
       "3  Stuart    4    NaN"
      ]
     },
     "execution_count": 32,
     "metadata": {},
     "output_type": "execute_result"
    }
   ],
   "source": [
    "new_student_df = pd.read_csv(\"output.csv\") # Read a DataFrame from titanic.csv\n",
    "new_student_df # Show the DataFrame"
   ]
  },
  {
   "cell_type": "markdown",
   "id": "fb2659c6",
   "metadata": {},
   "source": [
    "<a name=\"descriptives\"></a>\n",
    "## Descriptive Statistics"
   ]
  },
  {
   "cell_type": "markdown",
   "id": "ba02f963",
   "metadata": {},
   "source": [
    "- pandas.DataFrame.describe() – give an overview of the data"
   ]
  },
  {
   "cell_type": "code",
   "execution_count": 33,
   "id": "ee3fd1cd",
   "metadata": {},
   "outputs": [
    {
     "data": {
      "text/html": [
       "<div>\n",
       "<style scoped>\n",
       "    .dataframe tbody tr th:only-of-type {\n",
       "        vertical-align: middle;\n",
       "    }\n",
       "\n",
       "    .dataframe tbody tr th {\n",
       "        vertical-align: top;\n",
       "    }\n",
       "\n",
       "    .dataframe thead th {\n",
       "        text-align: right;\n",
       "    }\n",
       "</style>\n",
       "<table border=\"1\" class=\"dataframe\">\n",
       "  <thead>\n",
       "    <tr style=\"text-align: right;\">\n",
       "      <th></th>\n",
       "      <th>Age</th>\n",
       "      <th>Score</th>\n",
       "    </tr>\n",
       "  </thead>\n",
       "  <tbody>\n",
       "    <tr>\n",
       "      <th>count</th>\n",
       "      <td>4.000000</td>\n",
       "      <td>3.000000</td>\n",
       "    </tr>\n",
       "    <tr>\n",
       "      <th>mean</th>\n",
       "      <td>11.250000</td>\n",
       "      <td>78.666667</td>\n",
       "    </tr>\n",
       "    <tr>\n",
       "      <th>std</th>\n",
       "      <td>12.526638</td>\n",
       "      <td>23.437861</td>\n",
       "    </tr>\n",
       "    <tr>\n",
       "      <th>min</th>\n",
       "      <td>4.000000</td>\n",
       "      <td>52.000000</td>\n",
       "    </tr>\n",
       "    <tr>\n",
       "      <th>25%</th>\n",
       "      <td>4.750000</td>\n",
       "      <td>70.000000</td>\n",
       "    </tr>\n",
       "    <tr>\n",
       "      <th>50%</th>\n",
       "      <td>5.500000</td>\n",
       "      <td>88.000000</td>\n",
       "    </tr>\n",
       "    <tr>\n",
       "      <th>75%</th>\n",
       "      <td>12.000000</td>\n",
       "      <td>92.000000</td>\n",
       "    </tr>\n",
       "    <tr>\n",
       "      <th>max</th>\n",
       "      <td>30.000000</td>\n",
       "      <td>96.000000</td>\n",
       "    </tr>\n",
       "  </tbody>\n",
       "</table>\n",
       "</div>"
      ],
      "text/plain": [
       "             Age      Score\n",
       "count   4.000000   3.000000\n",
       "mean   11.250000  78.666667\n",
       "std    12.526638  23.437861\n",
       "min     4.000000  52.000000\n",
       "25%     4.750000  70.000000\n",
       "50%     5.500000  88.000000\n",
       "75%    12.000000  92.000000\n",
       "max    30.000000  96.000000"
      ]
     },
     "execution_count": 33,
     "metadata": {},
     "output_type": "execute_result"
    }
   ],
   "source": [
    "new_student_df.describe()"
   ]
  },
  {
   "cell_type": "markdown",
   "id": "d4321f93",
   "metadata": {},
   "source": [
    "- pandas.DataFrame.max() – return the maximum value\n",
    "- pandas.DataFrame.min() – return the minimum value"
   ]
  },
  {
   "cell_type": "code",
   "execution_count": 34,
   "id": "68a8eb0e",
   "metadata": {},
   "outputs": [
    {
     "data": {
      "text/plain": [
       "30"
      ]
     },
     "execution_count": 34,
     "metadata": {},
     "output_type": "execute_result"
    }
   ],
   "source": [
    "new_student_df['Age'].max() # Return the max of the Age column "
   ]
  },
  {
   "cell_type": "code",
   "execution_count": 35,
   "id": "339dccc2",
   "metadata": {},
   "outputs": [
    {
     "data": {
      "text/plain": [
       "Age       4.0\n",
       "Score    52.0\n",
       "dtype: float64"
      ]
     },
     "execution_count": 35,
     "metadata": {},
     "output_type": "execute_result"
    }
   ],
   "source": [
    "new_student_df[ ['Age','Score'] ].min() # Return max of the Age and Fare columns"
   ]
  },
  {
   "cell_type": "markdown",
   "id": "3a5f3342",
   "metadata": {},
   "source": [
    "- pandas.DataFrame.mean() - find the mean along an axis or particular column(s) \n",
    "- pandas.DataFrame.median() - find the median along an axis or particular column(s)\n",
    "- For more details: [https://pandas.pydata.org/docs/user_guide/basics.html#descriptive-statistics](https://pandas.pydata.org/docs/user_guide/basics.html#descriptive-statistics)"
   ]
  },
  {
   "cell_type": "code",
   "execution_count": 36,
   "id": "27d1d8ce",
   "metadata": {},
   "outputs": [
    {
     "data": {
      "text/plain": [
       "11.25"
      ]
     },
     "execution_count": 36,
     "metadata": {},
     "output_type": "execute_result"
    }
   ],
   "source": [
    "new_student_df['Age'].mean() # Return the mean of the Age column "
   ]
  },
  {
   "cell_type": "code",
   "execution_count": 37,
   "id": "e82c9f85",
   "metadata": {},
   "outputs": [
    {
     "data": {
      "text/plain": [
       "5.5"
      ]
     },
     "execution_count": 37,
     "metadata": {},
     "output_type": "execute_result"
    }
   ],
   "source": [
    "new_student_df['Age'].median() # Return the median of the Age column "
   ]
  },
  {
   "cell_type": "markdown",
   "id": "720f385b",
   "metadata": {},
   "source": [
    "<a name=\"missing\"></a>\n",
    "## Handling Missing Values\n",
    "\n",
    "- Detect missing values:\n",
    "  - pandas.isna() or pandas.DataFrame.isnull()\n",
    "    - Return a Boolean DataFrame indicating if the values are NA (None, numpy.nan)\n"
   ]
  },
  {
   "cell_type": "code",
   "execution_count": 38,
   "id": "57251e68",
   "metadata": {},
   "outputs": [
    {
     "data": {
      "text/plain": [
       "0    False\n",
       "1    False\n",
       "2    False\n",
       "3     True\n",
       "Name: Score, dtype: bool"
      ]
     },
     "execution_count": 38,
     "metadata": {},
     "output_type": "execute_result"
    }
   ],
   "source": [
    "new_student_df['Score'].isna()"
   ]
  },
  {
   "cell_type": "markdown",
   "id": "d6cff419",
   "metadata": {},
   "source": [
    "- Detect existing values:\n",
    "  - pandas.DataFrame.notna() or pandas.DataFrame.notnull()\n",
    "    - Return a Boolean DataFrame indicating if the values are not NA (None, numpy.nan)\n",
    "- Fill missing values with specified values or methods:\n",
    "  - pandas.DataFrame.fillna()\n",
    "    - Return a DataFrame with NA values filled\n"
   ]
  },
  {
   "cell_type": "code",
   "execution_count": 39,
   "id": "264eecbd",
   "metadata": {},
   "outputs": [
    {
     "data": {
      "text/plain": [
       "0    88.0\n",
       "1    96.0\n",
       "2    52.0\n",
       "3     0.0\n",
       "Name: Score, dtype: float64"
      ]
     },
     "execution_count": 39,
     "metadata": {},
     "output_type": "execute_result"
    }
   ],
   "source": [
    "new_student_df['Score'].fillna( 0 )"
   ]
  },
  {
   "cell_type": "markdown",
   "id": "9f05e70e",
   "metadata": {},
   "source": [
    "- Removing missing values:\n",
    "    - pandas.DataFrame.dropna()\n",
    "        - Return a DataFrame with NA values dropped"
   ]
  },
  {
   "cell_type": "code",
   "execution_count": 40,
   "id": "9f4bf85f",
   "metadata": {},
   "outputs": [
    {
     "data": {
      "text/plain": [
       "0    88.0\n",
       "1    96.0\n",
       "2    52.0\n",
       "Name: Score, dtype: float64"
      ]
     },
     "execution_count": 40,
     "metadata": {},
     "output_type": "execute_result"
    }
   ],
   "source": [
    "new_student_df['Score'].dropna()"
   ]
  },
  {
   "cell_type": "code",
   "execution_count": null,
   "id": "c44ae7a9",
   "metadata": {},
   "outputs": [],
   "source": []
  }
 ],
 "metadata": {
  "kernelspec": {
   "display_name": "Python 3 (ipykernel)",
   "language": "python",
   "name": "python3"
  },
  "language_info": {
   "codemirror_mode": {
    "name": "ipython",
    "version": 3
   },
   "file_extension": ".py",
   "mimetype": "text/x-python",
   "name": "python",
   "nbconvert_exporter": "python",
   "pygments_lexer": "ipython3",
   "version": "3.9.12"
  }
 },
 "nbformat": 4,
 "nbformat_minor": 5
}
