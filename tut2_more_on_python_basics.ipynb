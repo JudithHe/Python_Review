{
 "cells": [
  {
   "cell_type": "markdown",
   "metadata": {},
   "source": [
    "# MSBD 5001 - Foundations of Data Analytics\n",
    "# Tutorial 2\n",
    "# More on Python Basics"
   ]
  },
  {
   "cell_type": "markdown",
   "metadata": {},
   "source": [
    "### Table of Contents\n",
    "\n",
    "### Part 1. [Python Data Types](#basic_data_types)\n",
    "This section will discuss in more details the basic data types supported by Python:\n",
    "\n",
    "#### Part 1.1. [Basic Data Types](#basic_data_types):\n",
    "   - [Integers](#basic_data_types)\n",
    "   - [Floating point numbers](#basic_data_types)\n",
    "   - [Booleans](#basic_data_types)\n",
    "   - [Strings](#strings)\n",
    "   \n",
    "#### Part 1.2. [Basic Data Structures](#data_structures):  \n",
    "   - [List](#list)\n",
    "   - [Tuple](#tuple)\n",
    "   - [Set](#set)\n",
    "   - [Dictionary](#dict)\n",
    "   \n",
    "### Part 2. [More on Functions](#functions)\n",
    "   - [Parameters and Arguments](#parameters)\n",
    "   - [Local and Global Variables](#localglobal)\n",
    "   - [Positional and Keyword Arguments](#postionalandkeywordarguments)\n",
    "   - [Default Values](#defaultvalues)\n",
    "   - [Passing Objects](#passingobjects)\n",
    "    \n",
    "### Part 3. [Classes](#classes)\n",
    "   - [Classes and Objects](#classesandobjects)\n",
    "   - [Inheritance](#inheritance)"
   ]
  },
  {
   "cell_type": "markdown",
   "metadata": {},
   "source": [
    "<a name = \"basic_data_types\"></a>\n",
    "## Part 1.1. Python Basic Data Types\n",
    "\n",
    "<table>\n",
    "    <tr align=\"left\">\n",
    "        <th style=\"text-align:center; border:solid;\">Name</th>\n",
    "        <th style=\"text-align:center; border:solid;\">Type</th>\n",
    "        <th style=\"text-align:center; border:solid;\">Description</th>\n",
    "        <th style=\"text-align:center; border:solid;\">Mutable or Immutable?</th>\n",
    "    </tr>\n",
    "    <tr>\n",
    "        <td style=\"text-align:left; border:solid;\">Integers</td>\n",
    "        <td style=\"text-align:left; border:solid;\">int</td>\n",
    "        <td style=\"text-align:left; border:solid;\">Whole numbers, e.g. 2, 10, 123</td>\n",
    "        <td style=\"text-align:left; border:solid;\">Immutable</td>\n",
    "    </tr>\n",
    "    <tr>\n",
    "        <td style=\"text-align:left; border:solid;\">Floating point numbers</td>\n",
    "        <td style=\"text-align:left; border:solid;\">float</td>\n",
    "        <td style=\"text-align:left; border:solid;\">Numbers with a decimal point, e.g. 3.1456</td>\n",
    "        <td style=\"text-align:left; border:solid;\">Immutable</td>\n",
    "    </tr>\n",
    "    <tr>\n",
    "        <td style=\"text-align:left; border:solid;\">Booleans</td>\n",
    "        <td style=\"text-align:left; border:solid;\">bool</td>\n",
    "        <td style=\"text-align:left; border:solid;\">Logical values: True or False</td>\n",
    "        <td style=\"text-align:left; border:solid;\">Immutable</td>\n",
    "    </tr>\n",
    "    <tr>\n",
    "        <td style=\"text-align:left; border:solid;\">Strings</td>\n",
    "        <td style=\"text-align:left; border:solid;\">str</td>\n",
    "        <td style=\"text-align:left; border:solid;\">Ordered sequencey of characters, e.g. \"hello\"</td>\n",
    "        <td style=\"text-align:left; border:solid;\">Immutable</td>\n",
    "    </tr>\n",
    "</table>\n",
    "\n",
    "This section will discuss in more details the basic data types supported by Python, in particular, string."
   ]
  },
  {
   "cell_type": "markdown",
   "metadata": {},
   "source": [
    "We can use `types()` to get the type of the data."
   ]
  },
  {
   "cell_type": "code",
   "execution_count": 1,
   "metadata": {},
   "outputs": [
    {
     "name": "stdout",
     "output_type": "stream",
     "text": [
      "<class 'int'>\n",
      "<class 'float'>\n",
      "<class 'bool'>\n",
      "<class 'int'>\n",
      "<class 'str'>\n"
     ]
    }
   ],
   "source": [
    "print(type(1))\n",
    "print(type(1.2))\n",
    "print(type(False))\n",
    "x1 = 100\n",
    "print(type(x1))\n",
    "x2 = \"hello\"\n",
    "print(type(x2))"
   ]
  },
  {
   "cell_type": "markdown",
   "metadata": {},
   "source": [
    "<a name=\"strings\"></a>\n",
    "### Strings\n",
    "- Strings can be defined by use of single ('), double (\") or triple (\"') quotes.\n",
    "- Strings enclosed in triple quotes (\"') can span over multiple lines."
   ]
  },
  {
   "cell_type": "code",
   "execution_count": 2,
   "metadata": {},
   "outputs": [
    {
     "name": "stdout",
     "output_type": "stream",
     "text": [
      "Hello\n"
     ]
    }
   ],
   "source": [
    "greeting = 'Hello'\n",
    "print (greeting)"
   ]
  },
  {
   "cell_type": "code",
   "execution_count": 3,
   "metadata": {},
   "outputs": [
    {
     "name": "stdout",
     "output_type": "stream",
     "text": [
      "e\n",
      "5\n",
      "HelloWorld\n",
      "HelloHelloHello\n"
     ]
    }
   ],
   "source": [
    "print (greeting[1]) # Return character at index 1\n",
    "print (len(greeting)) # Print length of string\n",
    "print (greeting + 'World') # String concatention\n",
    "print (greeting * 3) # Duplicate the string 3 times"
   ]
  },
  {
   "cell_type": "markdown",
   "metadata": {},
   "source": [
    "A string is immutable."
   ]
  },
  {
   "cell_type": "code",
   "execution_count": 4,
   "metadata": {},
   "outputs": [
    {
     "ename": "TypeError",
     "evalue": "'str' object does not support item assignment",
     "output_type": "error",
     "traceback": [
      "\u001b[1;31m---------------------------------------------------------------------------\u001b[0m",
      "\u001b[1;31mTypeError\u001b[0m                                 Traceback (most recent call last)",
      "Input \u001b[1;32mIn [4]\u001b[0m, in \u001b[0;36m<cell line: 1>\u001b[1;34m()\u001b[0m\n\u001b[1;32m----> 1\u001b[0m greeting[\u001b[38;5;241m1\u001b[39m] \u001b[38;5;241m=\u001b[39m \u001b[38;5;124m'\u001b[39m\u001b[38;5;124mx\u001b[39m\u001b[38;5;124m'\u001b[39m\n",
      "\u001b[1;31mTypeError\u001b[0m: 'str' object does not support item assignment"
     ]
    }
   ],
   "source": [
    "greeting[1] = 'x'"
   ]
  },
  {
   "cell_type": "markdown",
   "metadata": {},
   "source": [
    "There are many useful string methods. \n",
    "For more details: [https://docs.python.org/3/library/stdtypes.html#string-methods](https://docs.python.org/3/library/stdtypes.html#string-methods)\n"
   ]
  },
  {
   "cell_type": "code",
   "execution_count": 5,
   "metadata": {
    "scrolled": true
   },
   "outputs": [
    {
     "name": "stdout",
     "output_type": "stream",
     "text": [
      "HELLO\n",
      "       Hello        \n",
      "               Hello\n",
      "Hero\n",
      "hello\n"
     ]
    }
   ],
   "source": [
    "print (greeting.upper()) # Return a copy of the string by convert all characters in the string to uppercase\n",
    "print (greeting.center(20)) # Return centered copy of the string with padding\n",
    "print (greeting.rjust(20)) # Return the right-justified copy of the string with padding\n",
    "print (greeting.replace('ll', 'r')) # Return a copy of string with all instances of one substring replaced with another\n",
    "print (' hello       '.strip()) # Return a copy of the string with all leading and trailing spaces removed"
   ]
  },
  {
   "cell_type": "markdown",
   "metadata": {},
   "source": [
    "#### String Literals\n",
    "\n",
    "We can add a prefix in front of string literals:\n",
    "\n",
    "<table>\n",
    "    <tr>\n",
    "        <th style=\"text-align:center; border:solid;\">Prefix</th>\n",
    "        <th style=\"text-align:center; border:solid;\">Meaning</th>\n",
    "        <th style=\"text-align:center; border:solid;\">Example</th>\n",
    "    </tr>\n",
    "    <tr>\n",
    "        <td style=\"text-align:left; border:solid;\">u or U</td>\n",
    "        <td style=\"text-align:left; border:solid;\">Unicode string, which is the default in Python 3</td>\n",
    "        <td style=\"text-align:left; border:solid;\">u_string = u\"Hi\"</td>\n",
    "    </tr>\n",
    "    <tr>\n",
    "        <td style=\"text-align:left; border:solid;\">b or B</td>\n",
    "        <td style=\"text-align:left; border:solid;\">Byte string, which is machine-readable and need decoding to become readable to human.</td>\n",
    "        <td style=\"text-align:left; border:solid;\">b_string = b'\\x48\\x69'</td>\n",
    "    </tr>\n",
    "    <tr>\n",
    "        <td style=\"text-align:left; border:solid;\">r or R</td>\n",
    "        <td style=\"text-align:left; border:solid;\">Raw string, which the character following a backslash is included in the string without change (i.e. not treated as an escape character)</td>\n",
    "        <td style=\"text-align:left; border:solid;\">r\"hello\\nworld\"</td>\n",
    "    </tr>\n",
    "    <tr>\n",
    "        <td style=\"text-align:left; border:solid;\">f or F</td>\n",
    "        <td style=\"text-align:left; border:solid;\">Formatted string, which may contain expressions with braces</td>\n",
    "        <td style=\"text-align:left; border:solid;\">f\"a + b = {a+b}\"</td>\n",
    "    </tr>\n",
    "</table>"
   ]
  },
  {
   "cell_type": "markdown",
   "metadata": {},
   "source": [
    "#### Unicode and Byte Strings"
   ]
  },
  {
   "cell_type": "code",
   "execution_count": 6,
   "metadata": {},
   "outputs": [
    {
     "name": "stdout",
     "output_type": "stream",
     "text": [
      "Hi\n",
      "b'Hi'\n",
      "<class 'str'>\n",
      "Hi\n",
      "<class 'bytes'>\n"
     ]
    }
   ],
   "source": [
    "u_string = u\"Hi\"\n",
    "print(u_string) # unicode string\n",
    "print(u_string.encode('utf-8')) # convert unicode string to byte string\n",
    "print(type(u_string))\n",
    "\n",
    "b_string = b'\\x48\\x69' # byte string\n",
    "print(b_string.decode('utf-8')) # convert byte string to unicode string\n",
    "print(type(b_string))"
   ]
  },
  {
   "cell_type": "code",
   "execution_count": 7,
   "metadata": {},
   "outputs": [
    {
     "name": "stdout",
     "output_type": "stream",
     "text": [
      "😀\n",
      "b'\\xf0\\x9f\\x98\\x80'\n"
     ]
    }
   ],
   "source": [
    "u_string = u\"\\U0001f600\"\n",
    "print(u_string)\n",
    "\n",
    "print(u_string.encode('utf-8'))"
   ]
  },
  {
   "cell_type": "markdown",
   "metadata": {},
   "source": [
    "#### Raw String"
   ]
  },
  {
   "cell_type": "code",
   "execution_count": 8,
   "metadata": {},
   "outputs": [
    {
     "name": "stdout",
     "output_type": "stream",
     "text": [
      "\\n is a newline character by default\n"
     ]
    }
   ],
   "source": [
    "str = r'\\n is a newline character by default' \n",
    "# Raw strings can be defined by adding r to the string\n",
    "print (str)"
   ]
  },
  {
   "cell_type": "markdown",
   "metadata": {},
   "source": [
    "#### Formatted String\n",
    "\n",
    "- f-strings\n",
    "  - It allows us to include the value of expressions inside a string by \n",
    "    - prefixing the string with ‘f’ or ‘F’ and \n",
    "    - wrapped by a braces, e.g. {expression}"
   ]
  },
  {
   "cell_type": "code",
   "execution_count": 9,
   "metadata": {},
   "outputs": [
    {
     "name": "stdout",
     "output_type": "stream",
     "text": [
      "a + b = 3\n"
     ]
    }
   ],
   "source": [
    "a = 1\n",
    "b = 2\n",
    "print( f\"a + b = {a+b}\" )"
   ]
  },
  {
   "cell_type": "markdown",
   "metadata": {},
   "source": [
    "- We can add an optional format specifier after the expression to specify how the value is formatted\n",
    "  - For example, \n",
    "    - to rounds a floating-point number to three places after the decimal, and\n",
    "    - to print the value with a minimum width of 10"
   ]
  },
  {
   "cell_type": "code",
   "execution_count": 10,
   "metadata": {},
   "outputs": [
    {
     "name": "stdout",
     "output_type": "stream",
     "text": [
      "The num is approximately      0.333.\n"
     ]
    }
   ],
   "source": [
    "num = 1/3\n",
    "print(f'The num is approximately {num:10.3f}.')"
   ]
  },
  {
   "cell_type": "markdown",
   "metadata": {},
   "source": [
    "##### Alignment options of the formatted string\n",
    "\n",
    "The following options can be included in the formatted string to specify the alignment of the expression.\n",
    "\n",
    "|Option|Description|\n",
    "|---|--------------|\n",
    "|<| Left alignment (default)|\n",
    "|>| Right alignment|\n",
    "|^| Center alignment|"
   ]
  },
  {
   "cell_type": "code",
   "execution_count": 11,
   "metadata": {},
   "outputs": [
    {
     "name": "stdout",
     "output_type": "stream",
     "text": [
      "                        Python\n",
      "Python                        \n",
      "            Python            \n"
     ]
    }
   ],
   "source": [
    "name = \"Python\"\n",
    "print(f\"{name:>30}\")\n",
    "print(f\"{name:<30}\")\n",
    "print(f\"{name:^30}\")"
   ]
  },
  {
   "cell_type": "markdown",
   "metadata": {},
   "source": [
    "<a name = \"data_structures\"></a>\n",
    "## Part 1.2. Python Data Structures\n",
    "<table>\n",
    "    <tr align=\"left\">\n",
    "        <th style=\"text-align:center; border:solid;\">Name</th>\n",
    "        <th style=\"text-align:center; border:solid;\">Type</th>\n",
    "        <th style=\"text-align:center; border:solid;\">Description</th>\n",
    "        <th style=\"text-align:center; border:solid;\">Mutable or Immutable?</th>\n",
    "    </tr>\n",
    "    <tr>\n",
    "        <td style=\"text-align:left; border:solid;\">Lists</td>\n",
    "        <td style=\"text-align:left; border:solid;\">list</td>\n",
    "        <td style=\"text-align:left; border:solid;\">Ordered sequence of objects, e.g. [1, 5, 7], [10, 2.3, \"hello\"]</td>\n",
    "        <td style=\"text-align:left; border:solid;\">Mutable</td>\n",
    "    </tr>\n",
    "    <tr>\n",
    "        <td style=\"text-align:left; border:solid;\">Tuples</td>\n",
    "        <td style=\"text-align:left; border:solid;\">tup</td>\n",
    "        <td style=\"text-align:left; border:solid;\">Ordered immutable sequence of objects, e.g. (\"a\", \"a\", \"b\")</td>\n",
    "        <td style=\"text-align:left; border:solid;\">Immutable</td>\n",
    "    </tr>\n",
    "    <tr>\n",
    "        <td style=\"text-align:left; border:solid;\">Sets</td>\n",
    "        <td style=\"text-align:left; border:solid;\">set</td>\n",
    "        <td style=\"text-align:left; border:solid;\">Unordered collection of unique items, e.g. {1, 5, 7}</td>\n",
    "        <td style=\"text-align:left; border:solid;\">Mutable</td>\n",
    "    </tr>\n",
    "    <tr>\n",
    "        <td style=\"text-align:left; border:solid;\">Dictionaries</td>\n",
    "        <td style=\"text-align:left; border:solid;\">dict</td>\n",
    "        <td style=\"text-align:left; border:solid;\">Unordered key-value pairs, e.g. {\"Ann\":12, \"Bob\":5}</td>\n",
    "        <td style=\"text-align:left; border:solid;\">Mutable</td>\n",
    "    </tr>\n",
    "</table>\n",
    "\n",
    "Each of the data structures will be introduced below:\n",
    "\n",
    "- [List](#list)\n",
    "- [Tuple](#tuple)\n",
    "- [Set](#set)\n",
    "- [Dictionary](#dict)\n",
    "\n",
    "\n",
    "For more details: <url>https://docs.python.org/3/tutorial/datastructures.html</url>"
   ]
  },
  {
   "cell_type": "markdown",
   "metadata": {},
   "source": [
    "We can use `type()` to get the type of the data structures."
   ]
  },
  {
   "cell_type": "code",
   "execution_count": 12,
   "metadata": {},
   "outputs": [
    {
     "name": "stdout",
     "output_type": "stream",
     "text": [
      "<class 'list'>\n",
      "<class 'dict'>\n"
     ]
    }
   ],
   "source": [
    "x3 = [\"a\", \"b\"]\n",
    "print(type(x3))\n",
    "x4 = {\"a\":1, \"b\":2}\n",
    "print(type(x4))"
   ]
  },
  {
   "cell_type": "markdown",
   "metadata": {},
   "source": [
    "<a name = \"list\"></a>\n",
    "### Lists\n",
    "- A list is defined by writing a list of comma separated values in a square brackets.\n",
    "- Lists might contain items of different types, but usually the items all have the same type."
   ]
  },
  {
   "cell_type": "code",
   "execution_count": 13,
   "metadata": {},
   "outputs": [
    {
     "name": "stdout",
     "output_type": "stream",
     "text": [
      "[0, 1, 4, 9, 16, 25]\n"
     ]
    }
   ],
   "source": [
    "squares_list = [0, 1, 4, 9, 16, 25]\n",
    "print(squares_list)"
   ]
  },
  {
   "cell_type": "code",
   "execution_count": 14,
   "metadata": {},
   "outputs": [
    {
     "name": "stdout",
     "output_type": "stream",
     "text": [
      "0\n",
      "16\n"
     ]
    }
   ],
   "source": [
    "print(squares_list[0]) # Indexing returns the items\n",
    "print(squares_list[-2]) # Return 2nd last element in the list"
   ]
  },
  {
   "cell_type": "code",
   "execution_count": 15,
   "metadata": {},
   "outputs": [
    {
     "name": "stdout",
     "output_type": "stream",
     "text": [
      "[[1, 2, 3], [4, 5, 6]]\n",
      "[1, 2, 3]\n"
     ]
    }
   ],
   "source": [
    "nested_list = [[1, 2, 3], [4, 5, 6]] # Nested list: lists in the list \n",
    "print(nested_list)\n",
    "print(nested_list[0])"
   ]
  },
  {
   "cell_type": "code",
   "execution_count": 16,
   "metadata": {},
   "outputs": [
    {
     "name": "stdout",
     "output_type": "stream",
     "text": [
      "[0, 1, 36, 9, 16, 25]\n"
     ]
    }
   ],
   "source": [
    "squares_list[2] = 36\n",
    "print(squares_list)"
   ]
  },
  {
   "cell_type": "markdown",
   "metadata": {},
   "source": [
    "#### Slicing: accessing sublist"
   ]
  },
  {
   "cell_type": "code",
   "execution_count": 17,
   "metadata": {},
   "outputs": [
    {
     "name": "stdout",
     "output_type": "stream",
     "text": [
      "Slicing examples:\n",
      "[16, 8]\n",
      "[16, 8, 30, 22]\n",
      "[3, 2]\n",
      "[3, 2, 16, 8, 30, 22]\n",
      "[3, 2, 16, 8, 30]\n",
      "Slicing with step:\n",
      "[3, 16, 30]\n",
      "[22, 30, 8, 16, 2, 3]\n",
      "More examples:\n",
      "[3, 2, 0, 0, 30, 22]\n"
     ]
    }
   ],
   "source": [
    "num_list = [3, 2, 16, 8, 30, 22]\n",
    "print (\"Slicing examples:\")\n",
    "print (num_list[2:4]) # Return a new list from index 2 to 4 (exclusive)\n",
    "print (num_list[2:]) # Return a new list from index 2 to the end\n",
    "print (num_list[:2]) # Return from the start to index 2 (exclusive)\n",
    "print (num_list[:]) # Return the whole list\n",
    "print (num_list[:-1]) # Slice indices can be negative\n",
    "\n",
    "print (\"Slicing with step:\")\n",
    "print (num_list[::2]) # Return every 2nd item\n",
    "print (num_list[::-1]) # Return a reversed list\n",
    "\n",
    "print (\"More examples:\")\n",
    "num_list[2:4] = [0, 0] # Assign a new sublist to a slice\n",
    "print (num_list) # Prints \"[3, 2, 0, 0, 30, 22]\""
   ]
  },
  {
   "cell_type": "markdown",
   "metadata": {},
   "source": [
    "#### Some Methods and Operations of Lists"
   ]
  },
  {
   "cell_type": "code",
   "execution_count": 18,
   "metadata": {},
   "outputs": [
    {
     "name": "stdout",
     "output_type": "stream",
     "text": [
      "[9, 5, 3, 10]\n",
      "Number of items:  4\n",
      "[9, 5, 3, 10, 9, 5, 3, 10]\n",
      "[3, 5, 9, 10]\n",
      "[3, 5, 9, 10, 1, 12, 4]\n"
     ]
    }
   ],
   "source": [
    "list1 = [9, 5, 3]\n",
    "list1.append(10) # Append 10 to the end of the list\n",
    "print (list1)\n",
    "print (\"Number of items: \", len(list1)) # Get the number of items\n",
    "print (list1 * 2) # Duplicate the list for 2 times\n",
    "list1.sort() # Sort list1\n",
    "print (list1)\n",
    "\n",
    "list2 = [1, 12, 4]\n",
    "print (list1 + list2) # Concatenate list1 and list2"
   ]
  },
  {
   "cell_type": "markdown",
   "metadata": {},
   "source": [
    "### List Comprehensions\n",
    "List comprehensions provide a concise way to create lists. \n",
    "\n",
    "- A list comprehension consists of brackets containing an expression followed by a for clause, then zero or more for or if clauses.\n",
    "- The result will be a new list.\n"
   ]
  },
  {
   "cell_type": "markdown",
   "metadata": {},
   "source": [
    "For example, we can use a for loop to generate a list of squares."
   ]
  },
  {
   "cell_type": "code",
   "execution_count": 19,
   "metadata": {},
   "outputs": [
    {
     "name": "stdout",
     "output_type": "stream",
     "text": [
      "[0, 1, 4, 9]\n"
     ]
    }
   ],
   "source": [
    "nums = [0, 1, 2, 3]\n",
    "squares = []\n",
    "for x in nums:\n",
    "    squares.append(x**2)\n",
    "print (squares)"
   ]
  },
  {
   "cell_type": "markdown",
   "metadata": {},
   "source": [
    "We can also generate a list of squares using list comprehension:"
   ]
  },
  {
   "cell_type": "code",
   "execution_count": 20,
   "metadata": {},
   "outputs": [
    {
     "name": "stdout",
     "output_type": "stream",
     "text": [
      "[0, 1, 4, 9]\n"
     ]
    }
   ],
   "source": [
    "squares = [x**2 for x in nums]\n",
    "print (squares)"
   ]
  },
  {
   "cell_type": "markdown",
   "metadata": {},
   "source": [
    "A list comprehension can also contain if clauses after the expression and for clause."
   ]
  },
  {
   "cell_type": "markdown",
   "metadata": {},
   "source": [
    "The following list comprehension creates a list of odd numbers by checking that the number is not divisible by 2."
   ]
  },
  {
   "cell_type": "code",
   "execution_count": 21,
   "metadata": {},
   "outputs": [
    {
     "name": "stdout",
     "output_type": "stream",
     "text": [
      "[1, 9]\n"
     ]
    }
   ],
   "source": [
    "squares = [x**2 for x in nums if x%2]\n",
    "print(squares)"
   ]
  },
  {
   "cell_type": "markdown",
   "metadata": {},
   "source": [
    "The above list comprehension is equivalent to the following code segment:"
   ]
  },
  {
   "cell_type": "code",
   "execution_count": 22,
   "metadata": {},
   "outputs": [
    {
     "name": "stdout",
     "output_type": "stream",
     "text": [
      "[1, 9]\n"
     ]
    }
   ],
   "source": [
    "squares = []\n",
    "for x in nums:\n",
    "    if x%2:\n",
    "        squares.append(x**2)\n",
    "print(squares)"
   ]
  },
  {
   "cell_type": "markdown",
   "metadata": {},
   "source": [
    "Nested List Comprehension\n",
    "\n",
    "The following two code segments produce the same results."
   ]
  },
  {
   "cell_type": "code",
   "execution_count": 23,
   "metadata": {},
   "outputs": [
    {
     "name": "stdout",
     "output_type": "stream",
     "text": [
      "[[1, 2, 3, 4], [2, 4, 6, 8], [3, 6, 9, 12]]\n"
     ]
    }
   ],
   "source": [
    "# create a 2d list using list comprehension\n",
    "num_list2 = [[ (i+1)*(j+1) for j in range(4)] for i in range(3)]\n",
    "print(num_list2)"
   ]
  },
  {
   "cell_type": "code",
   "execution_count": 24,
   "metadata": {},
   "outputs": [
    {
     "name": "stdout",
     "output_type": "stream",
     "text": [
      "[[1, 2, 3, 4], [2, 4, 6, 8], [3, 6, 9, 12]]\n"
     ]
    }
   ],
   "source": [
    "# create a 2d list using nested for loop\n",
    "num_list2 = []\n",
    "for i in range(3):\n",
    "    num_list2.append([])\n",
    "    for j in range(4):\n",
    "        num_list2[i].append((i+1)*(j+1))\n",
    "print(num_list2)"
   ]
  },
  {
   "cell_type": "markdown",
   "metadata": {},
   "source": [
    "List Comphrehension with nested for\n",
    "- A list comprehension can consists of multiple for clauses."
   ]
  },
  {
   "cell_type": "code",
   "execution_count": 25,
   "metadata": {},
   "outputs": [
    {
     "name": "stdout",
     "output_type": "stream",
     "text": [
      "[1, 2, -3, 4, -5, 3, 9, 8, 11]\n"
     ]
    }
   ],
   "source": [
    "num_list1 = [[1, 2, -3], [4, -5, 3], [9, 8, 11]]\n",
    "\n",
    "# flatten a list using list comprehension with 2 for\n",
    "numbers = [num for row in num_list1 for num in row]\n",
    "print(numbers)"
   ]
  },
  {
   "cell_type": "markdown",
   "metadata": {},
   "source": [
    "The above list comprehension is the same as the following code segment."
   ]
  },
  {
   "cell_type": "code",
   "execution_count": 26,
   "metadata": {},
   "outputs": [
    {
     "name": "stdout",
     "output_type": "stream",
     "text": [
      "[1, 2, -3, 4, -5, 3, 9, 8, 11]\n"
     ]
    }
   ],
   "source": [
    "num_list1 = [[1, 2, -3], [4, -5, 3], [9, 8, 11]]\n",
    "# flatten a list using nested loop\n",
    "numbers = []\n",
    "for row in num_list1:\n",
    "    for num in row:\n",
    "        numbers.append(num)\n",
    "print(numbers)"
   ]
  },
  {
   "cell_type": "markdown",
   "metadata": {},
   "source": [
    "Another example:"
   ]
  },
  {
   "cell_type": "code",
   "execution_count": 27,
   "metadata": {},
   "outputs": [
    {
     "name": "stdout",
     "output_type": "stream",
     "text": [
      "[3, 5, 7, 5, 7, 9, 7, 9, 11]\n"
     ]
    }
   ],
   "source": [
    "list1 = [1, 3, 5]\n",
    "list2 = [2, 4, 6]\n",
    "numbers = [x+y for x in list1 for y in list2]\n",
    "print(numbers)"
   ]
  },
  {
   "cell_type": "markdown",
   "metadata": {},
   "source": [
    "<a name = \"tuple\"></a>\n",
    "### Tuples\n",
    "- A tuple is represented by a number of values separated by commas.\n",
    "- Tuples are immutable and output is surrounded by parentheses.\n",
    "- Faster in processing than lists."
   ]
  },
  {
   "cell_type": "code",
   "execution_count": 28,
   "metadata": {},
   "outputs": [
    {
     "name": "stdout",
     "output_type": "stream",
     "text": [
      "(0, 1, 4, 9, 16, 25)\n",
      "((0, 2, 4), (1, 3, 5))\n"
     ]
    }
   ],
   "source": [
    "tuple_example = 0, 1, 4, 9, 16, 25 \n",
    "print (tuple_example) # Output would be enclosed in parenthesis\n",
    "\n",
    "# Parenthesis will be necessary if the tuple is part of a larger expression\n",
    "tuple_example2 = (0, 2, 4), (1, 3, 5)\n",
    "print (tuple_example2)"
   ]
  },
  {
   "cell_type": "code",
   "execution_count": 29,
   "metadata": {},
   "outputs": [
    {
     "name": "stdout",
     "output_type": "stream",
     "text": [
      "4\n"
     ]
    },
    {
     "ename": "TypeError",
     "evalue": "'tuple' object does not support item assignment",
     "output_type": "error",
     "traceback": [
      "\u001b[1;31m---------------------------------------------------------------------------\u001b[0m",
      "\u001b[1;31mTypeError\u001b[0m                                 Traceback (most recent call last)",
      "Input \u001b[1;32mIn [29]\u001b[0m, in \u001b[0;36m<cell line: 2>\u001b[1;34m()\u001b[0m\n\u001b[0;32m      1\u001b[0m \u001b[38;5;28mprint\u001b[39m (tuple_example[\u001b[38;5;241m2\u001b[39m]) \u001b[38;5;66;03m# Indexing returns the items\u001b[39;00m\n\u001b[1;32m----> 2\u001b[0m tuple_example[\u001b[38;5;241m2\u001b[39m] \u001b[38;5;241m=\u001b[39m \u001b[38;5;241m6\u001b[39m\n",
      "\u001b[1;31mTypeError\u001b[0m: 'tuple' object does not support item assignment"
     ]
    }
   ],
   "source": [
    "print (tuple_example[2]) # Indexing returns the items\n",
    "tuple_example[2] = 6 # Tuples are immutable and hence this is an error"
   ]
  },
  {
   "cell_type": "markdown",
   "metadata": {},
   "source": [
    "<a name = \"set\"></a>\n",
    "### Sets\n",
    "- A set is an unordered collection of distinct elements.\n",
    "- Sets do not record element position or order of insertion.\n",
    "- Sets do not support indexing, slicing, or other sequence-like behaviour."
   ]
  },
  {
   "cell_type": "code",
   "execution_count": 30,
   "metadata": {},
   "outputs": [
    {
     "name": "stdout",
     "output_type": "stream",
     "text": [
      "{'Apple', 'Orange'}\n"
     ]
    }
   ],
   "source": [
    "fruits = {'Orange', 'Apple'}\n",
    "print (fruits)"
   ]
  },
  {
   "cell_type": "code",
   "execution_count": 31,
   "metadata": {},
   "outputs": [
    {
     "name": "stdout",
     "output_type": "stream",
     "text": [
      "True\n",
      "False\n",
      "True\n",
      "3\n",
      "{'Apple', 'Banana', 'Orange'}\n",
      "{'Banana', 'Orange'}\n"
     ]
    }
   ],
   "source": [
    "print('Apple' in fruits) # Check if an element is in a set\n",
    "print('Banana' in fruits) \n",
    "fruits.add('Banana') # Add an element to a set\n",
    "print('Banana' in fruits)\n",
    "print (len(fruits)) # Get the number of elements in a set\n",
    "fruits.add('Apple') # Add an element that is already in the set does nothing\n",
    "print (fruits)\n",
    "fruits.remove('Apple') # Remove an element from the set\n",
    "print (fruits)"
   ]
  },
  {
   "cell_type": "markdown",
   "metadata": {},
   "source": [
    "We can also create a set using `set()`."
   ]
  },
  {
   "cell_type": "code",
   "execution_count": 32,
   "metadata": {},
   "outputs": [
    {
     "name": "stdout",
     "output_type": "stream",
     "text": [
      "{'Potato chips', 'Coke'}\n"
     ]
    }
   ],
   "source": [
    "items = set() # Create an emtpy set\n",
    "items.add(\"Coke\")\n",
    "items.add(\"Potato chips\")\n",
    "print (items)"
   ]
  },
  {
   "cell_type": "code",
   "execution_count": 33,
   "metadata": {},
   "outputs": [
    {
     "name": "stdout",
     "output_type": "stream",
     "text": [
      "{'n', 'a', 'b'}\n",
      "{'p', 'e', 'l', 'a'}\n",
      "Set operations:\n",
      "{'n', 'b'}\n",
      "{'e', 'n', 'a', 'p', 'l', 'b'}\n",
      "{'a'}\n",
      "{'n', 'b', 'e', 'p', 'l'}\n"
     ]
    }
   ],
   "source": [
    "set1 = set(\"banana\") # A set of unique characters\n",
    "set2 = set(\"apple\") \n",
    "print (set1)\n",
    "print (set2)\n",
    "print (\"Set operations:\")\n",
    "print (set1 - set2) # characters in set1 but not set2\n",
    "print (set1 | set2) # characters in set1 or set2\n",
    "print (set1 & set2) # characters in both set1 and set2\n",
    "print (set1 ^ set2) # characters in set1 or set2 but not both"
   ]
  },
  {
   "cell_type": "markdown",
   "metadata": {},
   "source": [
    "#### Set Comprehnsion\n",
    "\n",
    "The syntax of the Set comprehnsion is similar to the List comprehension, except that braces are used instead of square brackets."
   ]
  },
  {
   "cell_type": "code",
   "execution_count": 34,
   "metadata": {},
   "outputs": [
    {
     "name": "stdout",
     "output_type": "stream",
     "text": [
      "{0, 1, 2, 3, 5, 7}\n"
     ]
    }
   ],
   "source": [
    "list1 = [ 1, 2, 3, 3, 2, 5, 7, 0 ]\n",
    "set1 = set()\n",
    "# create a set using set comprehension\n",
    "set1 = {x for x in list1}\n",
    "print(set1)"
   ]
  },
  {
   "cell_type": "markdown",
   "metadata": {},
   "source": [
    "<a name = \"dict\"></a>\n",
    "### Dictionary\n",
    "- Dictionary is an unordered set of key: value pairs, with the requirement that the keys are unique (within one dictionary).\n",
    "- A pair of braces creates an empty dictionary: `{}`."
   ]
  },
  {
   "cell_type": "code",
   "execution_count": 35,
   "metadata": {},
   "outputs": [
    {
     "name": "stdout",
     "output_type": "stream",
     "text": [
      "{'CSE': 1234, 'DSCT': 7444, 'ECE': 7036}\n"
     ]
    }
   ],
   "source": [
    "extensions = {'CSE': 1234, 'DSCT': 7444, 'ECE': 7036}\n",
    "print (extensions)"
   ]
  },
  {
   "cell_type": "code",
   "execution_count": 36,
   "metadata": {},
   "outputs": [
    {
     "name": "stdout",
     "output_type": "stream",
     "text": [
      "7000\n",
      "{'CSE': 7000, 'DSCT': 7444, 'ECE': 7036, 'MAE': 8654}\n"
     ]
    }
   ],
   "source": [
    "extensions['CSE'] = 7000 # Modify the value for the key 'CSE'\n",
    "print (extensions['CSE']) # Get the value of the key 'CSE'\n",
    "extensions['MAE'] = 8654 # Add a key-value pair\n",
    "print (extensions)"
   ]
  },
  {
   "cell_type": "code",
   "execution_count": 37,
   "metadata": {},
   "outputs": [
    {
     "name": "stdout",
     "output_type": "stream",
     "text": [
      "dict_keys(['CSE', 'DSCT', 'ECE', 'MAE'])\n",
      "dict_values([7000, 7444, 7036, 8654])\n",
      "dict_items([('CSE', 7000), ('DSCT', 7444), ('ECE', 7036), ('MAE', 8654)])\n"
     ]
    }
   ],
   "source": [
    "print (extensions.keys()) # Get the keys only\n",
    "print (extensions.values()) # Get the values only\n",
    "print (extensions.items()) # Get the key-value pairs"
   ]
  },
  {
   "cell_type": "code",
   "execution_count": 38,
   "metadata": {},
   "outputs": [
    {
     "name": "stdout",
     "output_type": "stream",
     "text": [
      "CSE 7000\n",
      "DSCT 7444\n",
      "ECE 7036\n",
      "MAE 8654\n"
     ]
    }
   ],
   "source": [
    "for k, v in extensions.items():\n",
    "    print (k, v)"
   ]
  },
  {
   "cell_type": "markdown",
   "metadata": {},
   "source": [
    "#### Dictionary Comprehensions\n",
    "\n",
    "There are two expressions with a colon (:) between them for the key and corresponding value before the for."
   ]
  },
  {
   "cell_type": "code",
   "execution_count": 39,
   "metadata": {},
   "outputs": [
    {
     "name": "stdout",
     "output_type": "stream",
     "text": [
      "{'Chocolate bar': 122, 'Marshmallows': 212, 'Gummy': 100}\n"
     ]
    }
   ],
   "source": [
    "item2quantity = {\"Chocolate bar\":123, \"Marshmallows\":213, \"Gummy\":101}\n",
    "\n",
    "# create a dictionary with dict comprehension\n",
    "dict1 = {n:q-1 for n, q in item2quantity.items()}\n",
    "\n",
    "print(dict1)"
   ]
  },
  {
   "cell_type": "markdown",
   "metadata": {},
   "source": [
    "The dictionary comprehension above gives the same result as the code segment below."
   ]
  },
  {
   "cell_type": "code",
   "execution_count": 40,
   "metadata": {},
   "outputs": [
    {
     "name": "stdout",
     "output_type": "stream",
     "text": [
      "{'Chocolate bar': 122, 'Marshmallows': 212, 'Gummy': 100}\n"
     ]
    }
   ],
   "source": [
    "item2quantity = {\"Chocolate bar\":123, \"Marshmallows\":213, \"Gummy\":101}\n",
    "\n",
    "# create a dictionary with loop\n",
    "dict1 = {}\n",
    "for (name, quantity) in item2quantity.items():\n",
    "    dict1[name] = quantity-1\n",
    "print(dict1)"
   ]
  },
  {
   "cell_type": "markdown",
   "metadata": {},
   "source": [
    "### Practice\n",
    "\n",
    "Given the following two-dimensional list:"
   ]
  },
  {
   "cell_type": "code",
   "execution_count": 41,
   "metadata": {},
   "outputs": [],
   "source": [
    "table = [ [1, 2, 3, 4], [5, 6, 7, 8], [9, 10, 11, 12] ]"
   ]
  },
  {
   "cell_type": "markdown",
   "metadata": {},
   "source": [
    "Create a new two-dimensional list by flipping the table diagonally using (i.e. transpose):\n",
    "1. Nested for loop\n",
    "2. List comprehension"
   ]
  },
  {
   "cell_type": "markdown",
   "metadata": {},
   "source": [
    "<a name = \"functions\"></a>\n",
    "## Part 2: More on Functions\n",
    "\n",
    "A function is a sequence of instructions.\n",
    "\n",
    "- Function Definition\n",
    "  - def is a python keyword which is to create a function \n",
    "  - It is followed by the name of the function name, and a pair of parentheses, which may or may not contain a list of input values. \n",
    "  - A colon (:) indicates the end of the function definition\n",
    "- Function Body\n",
    "  - Contains the sequence of instructions\n",
    "  - The body of the function start at the next line.\n",
    "  - The statements of the function body must be indented. "
   ]
  },
  {
   "cell_type": "code",
   "execution_count": 42,
   "metadata": {},
   "outputs": [],
   "source": [
    "def say_hello(): # function definition\n",
    "    # function body\n",
    "    name = input(\"What is your name? \")\n",
    "    print(\"Nice to meet you,\", name)"
   ]
  },
  {
   "cell_type": "markdown",
   "metadata": {},
   "source": [
    "- Function call\n",
    "  - Tells Python to run (execute) the instructions in the function\n",
    "  - This is done by writing the name of the function and a pair of parentheses and inputs (if needed) inside the parentheses"
   ]
  },
  {
   "cell_type": "code",
   "execution_count": 43,
   "metadata": {},
   "outputs": [
    {
     "name": "stdout",
     "output_type": "stream",
     "text": [
      "What is your name? Python\n",
      "Nice to meet you, Python\n"
     ]
    }
   ],
   "source": [
    "say_hello()"
   ]
  },
  {
   "cell_type": "markdown",
   "metadata": {},
   "source": [
    "- return Statement\n",
    "  - Usually, a function returns something, for example,\n",
    "    - The result of some computations\n",
    "    - A signal about the status of the function\n",
    "    - A new object created by the function\n",
    "  - It is done by using the return keyword, and followed by the output\n",
    "  - The return keyword can also be used to terminate the function early by using the return keyword only without a value."
   ]
  },
  {
   "cell_type": "code",
   "execution_count": 44,
   "metadata": {},
   "outputs": [
    {
     "name": "stdout",
     "output_type": "stream",
     "text": [
      "40\n"
     ]
    }
   ],
   "source": [
    "import random # using the random module\n",
    "def get_random_number():\n",
    "    return random.randint(1, 100)\n",
    "\n",
    "print( get_random_number() )"
   ]
  },
  {
   "cell_type": "markdown",
   "metadata": {},
   "source": [
    "<a name=\"parameters\"></a>\n",
    "### Parameters and Arguments\n",
    "\n",
    "##### Parameters\n",
    "  - They are the variables specified in the function definition\n",
    "  - They describes what information are needed by the function\n",
    "\n",
    "In the following example, x is a parameter. The function takes the value in x, and then returns the square of the value\n"
   ]
  },
  {
   "cell_type": "code",
   "execution_count": 45,
   "metadata": {},
   "outputs": [],
   "source": [
    "def square(x):\n",
    "    result = x**2\n",
    "    return result"
   ]
  },
  {
   "cell_type": "markdown",
   "metadata": {},
   "source": [
    "##### Arguments\n",
    "  - The information that is passed from a function call to a function\n",
    "  - In the above function call, the value 10 is passed to the parameter x"
   ]
  },
  {
   "cell_type": "code",
   "execution_count": 46,
   "metadata": {},
   "outputs": [
    {
     "name": "stdout",
     "output_type": "stream",
     "text": [
      "The square of 10 is 100\n"
     ]
    }
   ],
   "source": [
    "print(\"The square of 10 is\", square(10))"
   ]
  },
  {
   "cell_type": "markdown",
   "metadata": {},
   "source": [
    "<a name=\"localglobal\"></a>\n",
    "### Local and Global Variables\n",
    "\n",
    "Global scope\n",
    "- The names that you define in this scope are available to all your code.\n",
    "\n",
    "Local scope\n",
    "- The names that you define in this scope are only available or visible to the code within the scope.\n",
    "\n",
    "Variables created inside a function are normally with local scope, while variables created outisde a function are with global scope."
   ]
  },
  {
   "cell_type": "code",
   "execution_count": 47,
   "metadata": {
    "scrolled": true
   },
   "outputs": [
    {
     "name": "stdout",
     "output_type": "stream",
     "text": [
      "In fun(): 0 30\n",
      "var1 = 0\n"
     ]
    },
    {
     "ename": "NameError",
     "evalue": "name 'parameter1' is not defined",
     "output_type": "error",
     "traceback": [
      "\u001b[1;31m---------------------------------------------------------------------------\u001b[0m",
      "\u001b[1;31mNameError\u001b[0m                                 Traceback (most recent call last)",
      "Input \u001b[1;32mIn [47]\u001b[0m, in \u001b[0;36m<cell line: 9>\u001b[1;34m()\u001b[0m\n\u001b[0;32m      7\u001b[0m fun(var1)\n\u001b[0;32m      8\u001b[0m \u001b[38;5;28mprint\u001b[39m(\u001b[38;5;124m'\u001b[39m\u001b[38;5;124mvar1 =\u001b[39m\u001b[38;5;124m'\u001b[39m, var1)\n\u001b[1;32m----> 9\u001b[0m \u001b[38;5;28mprint\u001b[39m(\u001b[38;5;124m'\u001b[39m\u001b[38;5;124mparameter1 = \u001b[39m\u001b[38;5;124m'\u001b[39m, \u001b[43mparameter1\u001b[49m)\n",
      "\u001b[1;31mNameError\u001b[0m: name 'parameter1' is not defined"
     ]
    }
   ],
   "source": [
    "def fun(parameter1):\n",
    "    # parameter1 is a local variable \n",
    "    parameter1 = parameter1 + 30\n",
    "    print(\"In fun():\", var1, parameter1)\n",
    "\n",
    "var1 = 0 # variable with global scope (global variable)\n",
    "fun(var1)\n",
    "print('var1 =', var1)\n",
    "print('parameter1 = ', parameter1) # cannot access the local variable"
   ]
  },
  {
   "cell_type": "markdown",
   "metadata": {},
   "source": [
    "#### The global Statement\n",
    "\n",
    "If we want to create/use a global variable inside a local scope (e.g. function), we can add the global statement as the first statement of a function body.\n"
   ]
  },
  {
   "cell_type": "code",
   "execution_count": 48,
   "metadata": {},
   "outputs": [
    {
     "name": "stdout",
     "output_type": "stream",
     "text": [
      "In fun(), var1 = 10\n",
      "var1 = 10\n"
     ]
    }
   ],
   "source": [
    "var1 = 0 # variable with global scope (global variable)\n",
    "\n",
    "def fun():\n",
    "    global var1\n",
    "    var1 = var1 + 10 # modify the global var1\n",
    "    print('In fun(), var1 =', var1) # read the global variable\n",
    "\n",
    "fun()\n",
    "print('var1 =', var1)"
   ]
  },
  {
   "cell_type": "markdown",
   "metadata": {},
   "source": [
    "<a name=\"postionalandkeywordarguments\"></a>\n",
    "### Positional and Keyword Arguments\n",
    "\n",
    "We can pass arguments to a function in different ways\n",
    "- Positional arguments\n",
    "- Keyword arguments\n"
   ]
  },
  {
   "cell_type": "markdown",
   "metadata": {},
   "source": [
    "#### Positional Arguments\n",
    "\n",
    "When we call a function, the parameters in the function definition take the information (values) in the order of the arguments in the function call."
   ]
  },
  {
   "cell_type": "code",
   "execution_count": 49,
   "metadata": {},
   "outputs": [],
   "source": [
    "def total_amount(product_name, price, quantity):\n",
    "    amount = price * quantity\n",
    "    print('You need to pay $', amount, 'for', quantity, product_name)"
   ]
  },
  {
   "cell_type": "markdown",
   "metadata": {},
   "source": [
    "The 3 arguments, 'candy', 5 and 10, will be passed to the 3 parameters, namely, product_name, price and quantity, correspondingly."
   ]
  },
  {
   "cell_type": "code",
   "execution_count": 50,
   "metadata": {},
   "outputs": [
    {
     "name": "stdout",
     "output_type": "stream",
     "text": [
      "You need to pay $ 50 for 10 candy\n"
     ]
    }
   ],
   "source": [
    "total_amount('candy', 5, 10)"
   ]
  },
  {
   "cell_type": "markdown",
   "metadata": {},
   "source": [
    "Order is very important for positional arguments."
   ]
  },
  {
   "cell_type": "code",
   "execution_count": 51,
   "metadata": {},
   "outputs": [
    {
     "name": "stdout",
     "output_type": "stream",
     "text": [
      "You need to pay $ candycandycandycandycandycandycandycandycandycandy for 10 5\n"
     ]
    }
   ],
   "source": [
    "total_amount(5, 'candy', 10)"
   ]
  },
  {
   "cell_type": "markdown",
   "metadata": {},
   "source": [
    "#### Positional-Only Arguments\n",
    "\n",
    "- If we do not know how many positional arguments will be passed to the function, we can add an asterisk (*) before the parameter name.\n",
    "- It will give us a tuple of arguments."
   ]
  },
  {
   "cell_type": "code",
   "execution_count": 52,
   "metadata": {},
   "outputs": [],
   "source": [
    "def get_args(*args):\n",
    "    print(\"The positional arguments are\", args)"
   ]
  },
  {
   "cell_type": "code",
   "execution_count": 53,
   "metadata": {},
   "outputs": [
    {
     "name": "stdout",
     "output_type": "stream",
     "text": [
      "The positional arguments are ('a', 'b', 10)\n"
     ]
    }
   ],
   "source": [
    "get_args(\"a\", \"b\", 10)"
   ]
  },
  {
   "cell_type": "markdown",
   "metadata": {},
   "source": [
    "#### Keyword Arguments\n",
    "\n",
    "- A keyword argument is a name-value pair that we pass to a function.\n",
    "- We specify the value and the parameter to be passed to within the argument.\n",
    "- The order of the keyword arguments is not important.\n",
    "\n",
    "For example, we can also call the total_amount() function by specifying each parameter name:"
   ]
  },
  {
   "cell_type": "code",
   "execution_count": 54,
   "metadata": {},
   "outputs": [
    {
     "name": "stdout",
     "output_type": "stream",
     "text": [
      "You need to pay $ 50 for 10 candy\n"
     ]
    }
   ],
   "source": [
    "total_amount(price=5, product_name='candy', quantity=10)"
   ]
  },
  {
   "cell_type": "markdown",
   "metadata": {},
   "source": [
    "The value 5 is passed to the price parameter, the string ‘candy’ is passed to the product_name parameter, and the value 10 is passed to the quantity parameter."
   ]
  },
  {
   "cell_type": "markdown",
   "metadata": {},
   "source": [
    "#### Keyword-Only Arguments\n",
    "\n",
    "- If we do not know how many keyword arguments will be passed to the function, we can add 2 asterisks (**) before the parameter name.\n",
    "- It will give us a dictionary of arguments."
   ]
  },
  {
   "cell_type": "code",
   "execution_count": 55,
   "metadata": {},
   "outputs": [],
   "source": [
    "def get_kargs(**kargs):\n",
    "    print(\"The keyword arguments are\", kargs)"
   ]
  },
  {
   "cell_type": "code",
   "execution_count": 56,
   "metadata": {},
   "outputs": [
    {
     "name": "stdout",
     "output_type": "stream",
     "text": [
      "The keyword arguments are {'name': 'Ann', 'age': 20, 'prog': 'MSBD'}\n"
     ]
    }
   ],
   "source": [
    "get_kargs(name=\"Ann\", age=20, prog=\"MSBD\")"
   ]
  },
  {
   "cell_type": "markdown",
   "metadata": {},
   "source": [
    "<a name=\"defaultvalues\"></a>\n",
    "### Default Values\n",
    "\n",
    "- We can give a default value to a parameter in a function definition.\n",
    "- If we pass an argument to a parameter in the function call, the argument value will be used.\n",
    "- If we do not pass an argument to a parameter with a default value, the default value will be used instead."
   ]
  },
  {
   "cell_type": "code",
   "execution_count": 57,
   "metadata": {},
   "outputs": [],
   "source": [
    "def add(x, y=1):\n",
    "    return (x + y)"
   ]
  },
  {
   "cell_type": "code",
   "execution_count": 58,
   "metadata": {
    "scrolled": true
   },
   "outputs": [
    {
     "name": "stdout",
     "output_type": "stream",
     "text": [
      "add(10) = 11\n",
      "add(10, 2) = 15\n"
     ]
    }
   ],
   "source": [
    "print( \"add(10) =\", add(10) ) # x will take 10, y will be 1\n",
    "print( \"add(10, 2) =\", add(10, 5) ) # x will take 10, and y will take 5"
   ]
  },
  {
   "cell_type": "markdown",
   "metadata": {},
   "source": [
    "<a name=\"passingobjects\"></a>\n",
    "### Passing Objects\n",
    "\n",
    "- We can pass more complex things than simple values to a function, e.g. a list, a dictionary, etc.\n",
    "  - Passing a dictionary to a function\n",
    "    - If we pass a dictionary to a function, we can modify the dictionary inside the function body.\n",
    "    - The changes are permanent.\n",
    "  - Passing a list to a function\n",
    "    - If we pass a list to a function, we can modify the list inside the function body.\n",
    "    - The changes are permanent.\n",
    "- The reason is that both list and dictionary are mutable objects."
   ]
  },
  {
   "cell_type": "code",
   "execution_count": 59,
   "metadata": {},
   "outputs": [
    {
     "name": "stdout",
     "output_type": "stream",
     "text": [
      "{'Ann': 98, 'Bob': 72}\n",
      "{'Ann': 99, 'Bob': 73}\n"
     ]
    }
   ],
   "source": [
    "def add(names2scores, x=1):\n",
    "    for each_key in names2scores.keys():\n",
    "        names2scores[each_key] = names2scores[each_key] + 1\n",
    "\n",
    "student_scores = {\"Ann\":98, \"Bob\":72}\n",
    "print(student_scores)\n",
    "add(student_scores)\n",
    "print(student_scores)"
   ]
  },
  {
   "cell_type": "code",
   "execution_count": 60,
   "metadata": {},
   "outputs": [
    {
     "name": "stdout",
     "output_type": "stream",
     "text": [
      "[2, 3, 4]\n"
     ]
    }
   ],
   "source": [
    "def add(list1, x=1):\n",
    "    for i in range(len(list1)):\n",
    "        list1[i] = list1[i] + x\n",
    "\n",
    "a_list = [1, 2, 3]\n",
    "add(a_list)\n",
    "print(a_list)"
   ]
  },
  {
   "cell_type": "markdown",
   "metadata": {},
   "source": [
    "#### Prevent a Function from Modifying a List\n",
    "If we want to pass a list to a function without being modified, we can pass a copy of a list to a function by:\n",
    "\n",
    "```\n",
    "function_name(list_name[:])\n",
    "```"
   ]
  },
  {
   "cell_type": "code",
   "execution_count": 61,
   "metadata": {},
   "outputs": [
    {
     "name": "stdout",
     "output_type": "stream",
     "text": [
      "[1, 2, 3]\n"
     ]
    }
   ],
   "source": [
    "def add(list1, x=1):\n",
    "    for i in range(len(list1)):\n",
    "        list1[i] = list1[i] + x\n",
    "\n",
    "a_list = [1, 2, 3]\n",
    "add(a_list[:])\n",
    "print(a_list) # the output remains: [1, 2, 3]"
   ]
  },
  {
   "cell_type": "markdown",
   "metadata": {},
   "source": [
    "<a name = \"classes\"></a>\n",
    "## Part 3: Classes"
   ]
  },
  {
   "cell_type": "markdown",
   "metadata": {},
   "source": [
    "<a name=\"classesandobjects\"></a>\n",
    "### Classes and Objects\n",
    "In object-oriented programming (OOP), we write classes and create objects based on the classes.\n",
    "\n",
    "#### Classes\n",
    "- User-defined data types\n",
    "- For defining the attributes (data members) and behaviours (methods) for objects of a class\n",
    "\n",
    "#### Objects\n",
    "- Instances of a class\n",
    "    - Instantiation – making an object from a class\n",
    "- Created with specifically defined data"
   ]
  },
  {
   "cell_type": "markdown",
   "metadata": {},
   "source": [
    "#### Class Definition\n",
    "\n",
    "The definition of a class has the following syntax\n",
    "```\n",
    "\tclass classname(base-classes):\n",
    "\t\tclass-body\n",
    "```\n",
    "\n",
    "- `classname` is an identifier, which follows the naming rules of variables.\n",
    "- `bass-classes` is optional, it is a comma-separated list of classes inherits from.\n",
    "- `class-body` is where we specify the attributes and behaviors.\n"
   ]
  },
  {
   "cell_type": "markdown",
   "metadata": {},
   "source": [
    "##### The __init___() Method\n",
    "\n",
    "- A method is a function defined in a class.\n",
    "- A method always have the first parameter with the name `self`.\n",
    "- `self` refers to the instance (object) that we are calling the method for. \n",
    "- The `__init__()` method is a special method called constructor that Python runs automatically when we make an instance based on a class."
   ]
  },
  {
   "cell_type": "code",
   "execution_count": 62,
   "metadata": {},
   "outputs": [],
   "source": [
    "class Person:\n",
    "    \"\"\" a simple example of class definition \"\"\"\n",
    "    def __init__(self, name, age):\n",
    "        \"\"\" initialize the attributes \"\"\"\n",
    "        self.name = name\n",
    "        self.age = age\n",
    "\n",
    "    def printInfo(self):\n",
    "        \"\"\" print the attributes \"\"\"\n",
    "        print(f\"{'Name':<10}: {self.name:>10}\\n{'Age':<10}: {self.age:>10}\")\n",
    "\n",
    "    def increaseAge(self, years=1):\n",
    "        \"\"\" increase the age attribute \"\"\"\n",
    "        self.age += years"
   ]
  },
  {
   "cell_type": "code",
   "execution_count": 63,
   "metadata": {},
   "outputs": [
    {
     "name": "stdout",
     "output_type": "stream",
     "text": [
      "       abc\n"
     ]
    }
   ],
   "source": [
    "print(f'{\"abc\":>10}')"
   ]
  },
  {
   "cell_type": "markdown",
   "metadata": {},
   "source": [
    "#### Making an Instance from a Class\n",
    "\n",
    "For example, to create a `Person` object:"
   ]
  },
  {
   "cell_type": "code",
   "execution_count": 64,
   "metadata": {},
   "outputs": [],
   "source": [
    "person1 = Person(\"Ann\", 20)"
   ]
  },
  {
   "cell_type": "markdown",
   "metadata": {},
   "source": [
    "- Python will call the __init__() method with the 3 arguments\n",
    "  - pass them to the parameters, name, gender and weight, and \n",
    "  - assign them to the attributes of the object\n"
   ]
  },
  {
   "cell_type": "markdown",
   "metadata": {},
   "source": [
    "#### Accessing an Attribute of a Class\n",
    "\n",
    "To access the attributes of an instance, use the following syntax:\n",
    "```\n",
    "object.attribute_name\n",
    "```\n",
    "\n",
    "For example, to access the attribute `age` of the `person1` object:"
   ]
  },
  {
   "cell_type": "code",
   "execution_count": 65,
   "metadata": {},
   "outputs": [],
   "source": [
    "person1.age += 1"
   ]
  },
  {
   "cell_type": "markdown",
   "metadata": {},
   "source": [
    "#### Calling a Method of an Object\n",
    "\n",
    "For example, to call the `increaseAge()` and `printInfo()` methods of the `person1` object"
   ]
  },
  {
   "cell_type": "code",
   "execution_count": 66,
   "metadata": {},
   "outputs": [
    {
     "name": "stdout",
     "output_type": "stream",
     "text": [
      "Name      :        Ann\n",
      "Age       :         23\n"
     ]
    }
   ],
   "source": [
    "person1.increaseAge(2)\n",
    "person1.printInfo()"
   ]
  },
  {
   "cell_type": "markdown",
   "metadata": {},
   "source": [
    "<a name=\"inheritance\"></a>\n",
    "### Inheritance\n",
    "\n",
    "In OOP, inheritance allows classes to reuse code from other classes.\n",
    "- The child (derived) class inherits the members (attributes and methods) of the parent (base) class.\n",
    "  - The code of the base class can be reused in the derived class.\n",
    "- New attributes and methods can be added to the derived class.\n",
    "- We can also override a method from the base class if the method is not good enough for the derived class.\n",
    "  - This is done by defining a method with the same name in the derived class."
   ]
  },
  {
   "cell_type": "markdown",
   "metadata": {},
   "source": [
    "For example, the `Student` class inherits from the `Person` class."
   ]
  },
  {
   "cell_type": "code",
   "execution_count": 67,
   "metadata": {},
   "outputs": [],
   "source": [
    "class Student(Person):\n",
    "    \n",
    "    def __init__(self, name, age, sid, program):\n",
    "        # class the __init__() method of the base class Person\n",
    "        super().__init__(name, age)\n",
    "        self.sid = sid\n",
    "        self.program = program\n",
    "    \n",
    "    def printInfo(self):\n",
    "        super().printInfo()\n",
    "        print(f\"{'ID':<10}: {self.sid:>10}\")\n",
    "        print(f\"{'Program':<10}: {self.program:>10}\")"
   ]
  },
  {
   "cell_type": "markdown",
   "metadata": {},
   "source": [
    "`super()` is a special function that allows us to call a method from the parent (base) class."
   ]
  },
  {
   "cell_type": "code",
   "execution_count": 68,
   "metadata": {},
   "outputs": [
    {
     "name": "stdout",
     "output_type": "stream",
     "text": [
      "Name      :        Bob\n",
      "Age       :         24\n",
      "ID        :   12345678\n",
      "Program   :       MSBD\n"
     ]
    }
   ],
   "source": [
    "student1 = Student(\"Bob\", 23, 12345678, \"MSBD\")\n",
    "student1.increaseAge()\n",
    "student1.printInfo()"
   ]
  },
  {
   "cell_type": "markdown",
   "metadata": {},
   "source": [
    "#### A Note about Private\n",
    "\n",
    "- In other OOP languages, such as C++, there is the concept of private attributes/methods and public attributes/methods\n",
    "  - Private – things that should not be accessed outside the object\n",
    "  - Protected - things that cannot not be accessed outside the object except the derived objects\n",
    "  - Public – things that can be accessed outside the object\n",
    "- Python does not enforce this concept.\n",
    "- But there is a convention adopted by most Python code:\n",
    "  - An attribute or method name prefixed with an underscore (_) should be regarded as protected\n",
    "  - An attribute or method name prefixed with two underscores (__) should be regarded as private\n",
    "\n",
    "#### Name mangling\n",
    "- Python will replace any names in a class with two leading underscores, e.g. `__membername`, by `_classname__membername`.\n",
    "This help to avoid name clashes of names with names defined by subclasses.\n"
   ]
  },
  {
   "cell_type": "markdown",
   "metadata": {},
   "source": [
    "--- end of tutorial 2 ---"
   ]
  },
  {
   "cell_type": "code",
   "execution_count": null,
   "metadata": {},
   "outputs": [],
   "source": []
  }
 ],
 "metadata": {
  "kernelspec": {
   "display_name": "Python 3 (ipykernel)",
   "language": "python",
   "name": "python3"
  },
  "language_info": {
   "codemirror_mode": {
    "name": "ipython",
    "version": 3
   },
   "file_extension": ".py",
   "mimetype": "text/x-python",
   "name": "python",
   "nbconvert_exporter": "python",
   "pygments_lexer": "ipython3",
   "version": "3.9.12"
  }
 },
 "nbformat": 4,
 "nbformat_minor": 4
}
