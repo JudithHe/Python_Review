{
 "cells": [
  {
   "cell_type": "markdown",
   "metadata": {},
   "source": [
    "## MSBD5001\n",
    "## Tutorial 1\n",
    "### Python Basics"
   ]
  },
  {
   "cell_type": "markdown",
   "metadata": {},
   "source": [
    "### Introduction\n",
    "\n",
    "Python is a high-level, dynamically typed programming language. "
   ]
  },
  {
   "cell_type": "markdown",
   "metadata": {},
   "source": [
    "#### Python versions\n",
    "\n",
    "There are two versions of Python, 2.7 and 3.,7 supported currently. Python 3 is not backward-compatible with Python 2. Code written under version 2.7 may not work under version 3.7 and vice versa. We will be using Python 3 in this course."
   ]
  },
  {
   "cell_type": "code",
   "execution_count": 1,
   "metadata": {},
   "outputs": [
    {
     "ename": "SyntaxError",
     "evalue": "Missing parentheses in call to 'print'. Did you mean print(\"Hello\" # Python 2)? (<ipython-input-1-99b62c2fa95d>, line 2)",
     "output_type": "error",
     "traceback": [
      "\u001b[1;36m  File \u001b[1;32m\"<ipython-input-1-99b62c2fa95d>\"\u001b[1;36m, line \u001b[1;32m2\u001b[0m\n\u001b[1;33m    print \"Hello\" # Python 2\u001b[0m\n\u001b[1;37m          ^\u001b[0m\n\u001b[1;31mSyntaxError\u001b[0m\u001b[1;31m:\u001b[0m Missing parentheses in call to 'print'. Did you mean print(\"Hello\" # Python 2)?\n"
     ]
    }
   ],
   "source": [
    "print(\"Hello\") # Python 3 \n",
    "print \"Hello\" # Python 2"
   ]
  },
  {
   "cell_type": "markdown",
   "metadata": {},
   "source": [
    "##### Syntax\n",
    "\n",
    "Python has no mandatory statement termination characters. \n",
    "A statement is usually just a line of code. Only extra blanks and tabs are ignored.\n",
    "\n",
    "But there are two ways of having a multi-line statment:\n",
    "1. Explicit line continuation -- using the line continuation character (\\).\n",
    "2. Implicit line continuation -- spliting a statement with parentheses ( ), brackets [ ] and braces { } across lines. "
   ]
  },
  {
   "cell_type": "code",
   "execution_count": 2,
   "metadata": {},
   "outputs": [
    {
     "name": "stdout",
     "output_type": "stream",
     "text": [
      "Hello  world\n",
      "Hello  world\n",
      "Hello  world\n"
     ]
    }
   ],
   "source": [
    "print (\"Hello\", \" world\")\n",
    "print (\"Hello\", \\\n",
    "       \" world\")\n",
    "print (\"Hello\", \n",
    "       \" world\")"
   ]
  },
  {
   "cell_type": "markdown",
   "metadata": {},
   "source": [
    "Blocks are specified by indentation. The number of spaces in the indentation is variable, but all statements within the block must be indented the same amount. Statements that expect an indentation level end in a colon (:). \n",
    "\n",
    "Comments starting with the pound(#) sign are one-line comments only, while multi-line strings are used for multi-line comments, delimited by triple quote (\"\"\")."
   ]
  },
  {
   "cell_type": "code",
   "execution_count": 4,
   "metadata": {},
   "outputs": [
    {
     "name": "stdout",
     "output_type": "stream",
     "text": [
      "Hello\n",
      " World\n"
     ]
    }
   ],
   "source": [
    "# This is a single-line comment\n",
    "\"\"\" This is a \n",
    "multi-line string \"\"\"\n",
    "''' This is also a \n",
    "multi-line string '''\n",
    "print (\"Hello\")\n",
    "print (\" World\")"
   ]
  },
  {
   "cell_type": "markdown",
   "metadata": {},
   "source": [
    "##### Basic Data Types\n",
    "\n",
    "<ul>\n",
    "<li> <strong>Integer</strong>:\n",
    "   Examples of values: 0, 1, 100, -101, ...\n",
    "</li>\n",
    "<li> <strong>Floating point</strong>:\n",
    "   Examples of values: 0.5, -123.908232\n",
    "</li>\n",
    "<li> <strong>String</strong>:\n",
    "   Examples of values: \"A\", ’abc’, \"comp 2011\", ...\n",
    "</li>\n",
    "<li> <strong>Boolean</strong>:\n",
    "   Examples of values: True, False\n",
    "</li>\n",
    "</ul>\n",
    "\n",
    "Variables need not be declared and their data types are\n",
    "inferred from the assignments.\n",
    "\n",
    "For examples:"
   ]
  },
  {
   "cell_type": "code",
   "execution_count": 5,
   "metadata": {},
   "outputs": [],
   "source": [
    "num1 = 100 # integer data type\n",
    "num2 = 0.05 # float data type\n",
    "str1 = \"hello\"\n",
    "var1 = True"
   ]
  },
  {
   "cell_type": "markdown",
   "metadata": {},
   "source": [
    "##### Operators\n",
    "\n",
    "Some examples of operators are:\n",
    "\n",
    "<strong>Arithmetic Operators</strong>\n",
    "<table>\n",
    "<tr><th>Operator</th><th>Description</th></tr>\n",
    "<tr><td>+</td><td>Addition</td></tr>\n",
    "<tr><td>-</td><td>Subtraction</td></tr>\n",
    "<tr><td>&#42;</td><td>Multiplication</td></tr>\n",
    "<tr><td>/</td><td>Division</td></tr>\n",
    "<tr><td>//</td><td>Integer Division</td></tr>\n",
    "<tr><td>%</td><td>Modulus (Remainder)</td></tr>\n",
    "<tr><td>&#42;&#42;</td><td>Power</td></tr>\n",
    "</table>"
   ]
  },
  {
   "cell_type": "code",
   "execution_count": 6,
   "metadata": {},
   "outputs": [
    {
     "name": "stdout",
     "output_type": "stream",
     "text": [
      "9\n",
      "1\n",
      "20\n",
      "1.25\n",
      "1\n",
      "1\n",
      "625\n"
     ]
    }
   ],
   "source": [
    "a=5\n",
    "b=4\n",
    "print (a+b)\n",
    "print (a-b)\n",
    "print (a*b)\n",
    "print (a/b)\n",
    "print (a//b)\n",
    "print (a%b)\n",
    "print (a**b)"
   ]
  },
  {
   "cell_type": "markdown",
   "metadata": {},
   "source": [
    "<strong>Assignment Operators</strong>\n",
    "<table>\n",
    "<tr><th>Operator</th><th>Description</th></tr>\n",
    "<tr><td>=</td><td>Assignment</td></tr>\n",
    "<tr><td>+=</td><td>Addition assignment</td></tr>\n",
    "<tr><td>-=</td><td>Subtraction assignment</td></tr>\n",
    "<tr><td>&#42;=</td><td>Multiplication assignment</td></tr>\n",
    "<tr><td>/=</td><td>Division assignment</td></tr>\n",
    "</table>"
   ]
  },
  {
   "cell_type": "code",
   "execution_count": 7,
   "metadata": {},
   "outputs": [
    {
     "name": "stdout",
     "output_type": "stream",
     "text": [
      "4\n",
      "8\n",
      "4\n",
      "16\n",
      "4.0\n"
     ]
    }
   ],
   "source": [
    "x=3\n",
    "y=4\n",
    "x=y\n",
    "print (x)\n",
    "x+=y\n",
    "print (x)\n",
    "x-=y\n",
    "print (x)\n",
    "x*=y\n",
    "print (x)\n",
    "x/=y\n",
    "print (x)"
   ]
  },
  {
   "cell_type": "markdown",
   "metadata": {},
   "source": [
    "<strong>Relational Operators</strong>\n",
    "<table>\n",
    "<tr><th>Operator</th><th>Description</th></tr>\n",
    "<tr><td>and</td><td>And</td></tr>\n",
    "<tr><td>or</td><td>Or</td></tr>\n",
    "<tr><td>not</td><td>Not</td></tr>\n",
    "</table>"
   ]
  },
  {
   "cell_type": "code",
   "execution_count": 8,
   "metadata": {},
   "outputs": [
    {
     "name": "stdout",
     "output_type": "stream",
     "text": [
      "False\n",
      "True\n",
      "True\n"
     ]
    }
   ],
   "source": [
    "print (True and False)\n",
    "print (True or False)\n",
    "print (not False)"
   ]
  },
  {
   "cell_type": "markdown",
   "metadata": {},
   "source": [
    "<strong>Comparison Operators</strong>\n",
    "<table>\n",
    "<tr><th>Operator</th><th>Description</th></tr>\n",
    "<tr><td>&gt;</td><td>Larger than</td></tr>\n",
    "<tr><td>&gt;=</td><td>Larger than or equal to</td></tr>\n",
    "<tr><td>&lt;</td><td>Smaller than</td></tr>\n",
    "<tr><td>&lt;=</td><td>Smaller than or equal to</td></tr>\n",
    "<tr><td>==</td><td>Equal to</td></tr>\n",
    "<tr><td>!=</td><td>Not equal to</td></tr>\n",
    "</table>"
   ]
  },
  {
   "cell_type": "code",
   "execution_count": 9,
   "metadata": {},
   "outputs": [
    {
     "name": "stdout",
     "output_type": "stream",
     "text": [
      "True\n",
      "True\n",
      "False\n",
      "False\n",
      "False\n",
      "True\n"
     ]
    }
   ],
   "source": [
    "x = 20\n",
    "y = 10\n",
    "print (a > b)\n",
    "print (a >= b)\n",
    "print (a < b)\n",
    "print (a <= b)\n",
    "print (a == b)\n",
    "print (a != b)"
   ]
  },
  {
   "cell_type": "markdown",
   "metadata": {},
   "source": [
    "**Assignment Expression Operator**\n",
    "\n",
    "Introduced since Python 3.8, the assignment expression operator, also known as the walrus operator, is used in constructing assignment expressions.\n",
    "It is to assign and return variables in the middle of the expressions."
   ]
  },
  {
   "cell_type": "code",
   "execution_count": 10,
   "metadata": {},
   "outputs": [
    {
     "name": "stdout",
     "output_type": "stream",
     "text": [
      "True\n"
     ]
    }
   ],
   "source": [
    "print (x := True)"
   ]
  },
  {
   "cell_type": "markdown",
   "metadata": {},
   "source": [
    "##### Flow Control"
   ]
  },
  {
   "cell_type": "markdown",
   "metadata": {},
   "source": [
    "<strong>if Statement</strong>\n",
    "```python\n",
    "if (<bool-expr>) :\n",
    "   <stmt(s)>\n",
    "\n",
    "if (<bool-expr>) :\n",
    "   <stmt(s)>\n",
    "else :\n",
    "   <stmt(s)>\n",
    "   \n",
    "if (<bool-expr>) :\n",
    "   <stmt(s)>\n",
    "elif (<bool-expr>) :\n",
    "   <stmt(s)>\n",
    "\n",
    "if (<bool-expr>) :\n",
    "   <stmt(s)>\n",
    "elif (<bool-expr>) :\n",
    "   <stmt(s)>\n",
    "else :\n",
    "   <stmt(s)>\n",
    "```"
   ]
  },
  {
   "cell_type": "code",
   "execution_count": 11,
   "metadata": {},
   "outputs": [
    {
     "name": "stdout",
     "output_type": "stream",
     "text": [
      "x is negative and odd.\n"
     ]
    }
   ],
   "source": [
    "x = -5\n",
    "\n",
    "# Blocks are identified by having the same indentation.\n",
    "\n",
    "if x > 0 :\n",
    "    print (\"x is positive\", end=\"\")\n",
    "    if x % 2 :\n",
    "        print (\" and odd.\")\n",
    "    else :\n",
    "        print (\" and even.\")\n",
    "elif (x < 0) and (x % 2) :\n",
    "    print (\"x is negative and odd.\")\n",
    "elif (x < 0) and (not (x % 2)) :\n",
    "    print (\"x is negative and even.\")\n",
    "else :\n",
    "    print (\"X is zero.\")"
   ]
  },
  {
   "cell_type": "markdown",
   "metadata": {},
   "source": [
    "<strong>while Loop</strong>\n",
    "```python\n",
    "while (<bool-expr>) :\n",
    "   <stmt(s)>\n",
    "```"
   ]
  },
  {
   "cell_type": "code",
   "execution_count": 12,
   "metadata": {},
   "outputs": [
    {
     "name": "stdout",
     "output_type": "stream",
     "text": [
      "8\n",
      "6\n",
      "4\n",
      "2\n",
      "0\n"
     ]
    }
   ],
   "source": [
    "# Blocks are identified by having the same indentation.\n",
    "\n",
    "i = 10\n",
    "while i > 0:\n",
    "    i = i - 2\n",
    "    print (i)"
   ]
  },
  {
   "cell_type": "markdown",
   "metadata": {},
   "source": [
    "<strong>for Loop</strong>\n",
    "```python\n",
    "for <item> in <a list of items> :\n",
    "   <stmt(s)>\n",
    "```"
   ]
  },
  {
   "cell_type": "code",
   "execution_count": 16,
   "metadata": {},
   "outputs": [
    {
     "name": "stdout",
     "output_type": "stream",
     "text": [
      "0\n",
      "1\n",
      "3\n",
      "4\n",
      "0\n",
      "1\n",
      "2\n",
      "3\n",
      "4\n"
     ]
    }
   ],
   "source": [
    "for i in [0, 1, 3, 4]:\n",
    "    print(i)\n",
    "for i in range(5) : \n",
    "    print (i)\n",
    "# range() returns a generator-like object which is commonly used \n",
    "# for looping a specific number of times in for loops."
   ]
  },
  {
   "cell_type": "markdown",
   "metadata": {},
   "source": [
    "##### Functions\n",
    "Functions are declared with the def keyword.\n",
    "A Python function need not specify the parameter types and return types\n",
    "\n",
    "```python\n",
    "def <function-name>(<arguments>):\n",
    "    <stmt(s)>\n",
    "```"
   ]
  },
  {
   "cell_type": "code",
   "execution_count": 17,
   "metadata": {},
   "outputs": [
    {
     "name": "stdout",
     "output_type": "stream",
     "text": [
      "The number is 10\n",
      "The number is 11\n"
     ]
    }
   ],
   "source": [
    "def PrintNum(num) :\n",
    "    print (\"The number is\", num)\n",
    "    \n",
    "def AddOne(num) :\n",
    "    return (num + 1)\n",
    "\n",
    "PrintNum(10)\n",
    "PrintNum( AddOne(10) )"
   ]
  },
  {
   "cell_type": "code",
   "execution_count": null,
   "metadata": {},
   "outputs": [],
   "source": []
  }
 ],
 "metadata": {
  "anaconda-cloud": {},
  "kernelspec": {
   "display_name": "Python 3 (ipykernel)",
   "language": "python",
   "name": "python3"
  },
  "language_info": {
   "codemirror_mode": {
    "name": "ipython",
    "version": 3
   },
   "file_extension": ".py",
   "mimetype": "text/x-python",
   "name": "python",
   "nbconvert_exporter": "python",
   "pygments_lexer": "ipython3",
   "version": "3.9.12"
  }
 },
 "nbformat": 4,
 "nbformat_minor": 1
}
